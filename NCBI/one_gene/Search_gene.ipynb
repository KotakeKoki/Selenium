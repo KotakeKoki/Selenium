{
 "cells": [
  {
   "cell_type": "code",
   "execution_count": 1,
   "id": "ef64bf89",
   "metadata": {},
   "outputs": [],
   "source": [
    "from selenium import webdriver\n",
    "from time import sleep\n",
    "from selenium.webdriver.common.by import By\n",
    "from bs4 import BeautifulSoup\n",
    "import requests \n",
    "import pandas as pd"
   ]
  },
  {
   "cell_type": "code",
   "execution_count": 2,
   "id": "2edb887f",
   "metadata": {
    "lines_to_next_cell": 2
   },
   "outputs": [],
   "source": [
    "browser= webdriver.Chrome()"
   ]
  },
  {
   "cell_type": "code",
   "execution_count": 3,
   "id": "cc89dcde",
   "metadata": {},
   "outputs": [],
   "source": [
    "url = \"https://www.ncbi.nlm.nih.gov/\"\n",
    "browser.get(url)"
   ]
  },
  {
   "cell_type": "code",
   "execution_count": 4,
   "id": "026ae866",
   "metadata": {},
   "outputs": [],
   "source": [
    "search_win = browser.find_element(By.ID,\"term\")\n",
    "search_win.send_keys(\"KCNQ1\")"
   ]
  },
  {
   "cell_type": "code",
   "execution_count": 5,
   "id": "5a38407f",
   "metadata": {},
   "outputs": [],
   "source": [
    "search_button = browser.find_element(By.ID,\"search\")\n",
    "search_button.click()"
   ]
  },
  {
   "cell_type": "code",
   "execution_count": 6,
   "id": "57533d85",
   "metadata": {
    "lines_to_next_cell": 2
   },
   "outputs": [],
   "source": [
    "gene = browser.find_element(By.ID,\"feat_gene_title\")\n",
    "gene.click()"
   ]
  },
  {
   "cell_type": "code",
   "execution_count": 7,
   "id": "f979f34a",
   "metadata": {},
   "outputs": [
    {
     "data": {
      "text/plain": [
       "{'name': 'KCNQ1 potassium voltage-gated channel subfamily Q member 1 [ Homo sapiens (human) ]',\n",
       " 'url': 'https://www.ncbi.nlm.nih.gov/gene/3784'}"
      ]
     },
     "execution_count": 7,
     "metadata": {},
     "output_type": "execute_result"
    }
   ],
   "source": [
    "res = requests.get(url)\n",
    "res\n",
    "\n",
    "soup = BeautifulSoup(res.text,\"html.parser\")\n",
    "#soup\n",
    "gene ={}\n",
    "\n",
    "name = browser.find_element(By.CLASS_NAME,\"title\")\n",
    "gene_url = browser.current_url\n",
    "#categoryItems\n",
    "#categoryItems = categoryItems.find_all(\"dl\")\n",
    "\n",
    "gene[\"name\"] = name.text\n",
    "gene[\"url\"] = gene_url\n",
    "\n",
    "#gene[\"Summary\"] = \n",
    "gene"
   ]
  },
  {
   "cell_type": "code",
   "execution_count": 8,
   "id": "805ed829",
   "metadata": {},
   "outputs": [],
   "source": [
    "res = requests.get(gene_url)\n",
    "#res\n",
    "soup = BeautifulSoup(res.text,\"html.parser\")\n",
    "#soup\n",
    "\n",
    "#summaryのテーブル構造を抽出\n",
    "categoryItems = soup.find(\"dl\",attrs={\"id\":\"summaryDl\"})\n",
    "categoryItems = categoryItems.find_all(\"dd\")\n",
    "\n",
    "gene[\"gene_type\"] = categoryItems[4].text\n",
    "gene[\"summary\"] = categoryItems[9].text\n",
    "#gene"
   ]
  },
  {
   "cell_type": "code",
   "execution_count": 9,
   "id": "52f17079",
   "metadata": {},
   "outputs": [],
   "source": [
    "Location = soup.find(\"div\",attrs={\"class\":\"gt_cont_contents\"})\n",
    "gene[\"Location\"] = Location.find_all(\"span\")[1].text"
   ]
  },
  {
   "cell_type": "code",
   "execution_count": 10,
   "id": "9084784d",
   "metadata": {},
   "outputs": [
    {
     "data": {
      "text/html": [
       "<div>\n",
       "<style scoped>\n",
       "    .dataframe tbody tr th:only-of-type {\n",
       "        vertical-align: middle;\n",
       "    }\n",
       "\n",
       "    .dataframe tbody tr th {\n",
       "        vertical-align: top;\n",
       "    }\n",
       "\n",
       "    .dataframe thead th {\n",
       "        text-align: right;\n",
       "    }\n",
       "</style>\n",
       "<table border=\"1\" class=\"dataframe\">\n",
       "  <thead>\n",
       "    <tr style=\"text-align: right;\">\n",
       "      <th></th>\n",
       "      <th>name</th>\n",
       "      <th>url</th>\n",
       "      <th>gene_type</th>\n",
       "      <th>summary</th>\n",
       "      <th>Location</th>\n",
       "    </tr>\n",
       "  </thead>\n",
       "  <tbody>\n",
       "    <tr>\n",
       "      <th>0</th>\n",
       "      <td>KCNQ1 potassium voltage-gated channel subfamil...</td>\n",
       "      <td>https://www.ncbi.nlm.nih.gov/gene/3784</td>\n",
       "      <td>protein coding</td>\n",
       "      <td>This gene encodes a voltage-gated potassium ch...</td>\n",
       "      <td>11p15.5-p15.4</td>\n",
       "    </tr>\n",
       "  </tbody>\n",
       "</table>\n",
       "</div>"
      ],
      "text/plain": [
       "                                                name  \\\n",
       "0  KCNQ1 potassium voltage-gated channel subfamil...   \n",
       "\n",
       "                                      url       gene_type  \\\n",
       "0  https://www.ncbi.nlm.nih.gov/gene/3784  protein coding   \n",
       "\n",
       "                                             summary       Location  \n",
       "0  This gene encodes a voltage-gated potassium ch...  11p15.5-p15.4  "
      ]
     },
     "execution_count": 10,
     "metadata": {},
     "output_type": "execute_result"
    }
   ],
   "source": [
    "df = pd.DataFrame(gene,index = [0])\n",
    "df"
   ]
  },
  {
   "cell_type": "code",
   "execution_count": 11,
   "id": "857b69b6",
   "metadata": {},
   "outputs": [],
   "source": [
    "df.to_csv(\"gene.csv\",index = False)"
   ]
  },
  {
   "cell_type": "code",
   "execution_count": null,
   "id": "fcd4ef88",
   "metadata": {},
   "outputs": [],
   "source": []
  }
 ],
 "metadata": {
  "kernelspec": {
   "display_name": "Python 3 (ipykernel)",
   "language": "python",
   "name": "python3"
  },
  "language_info": {
   "codemirror_mode": {
    "name": "ipython",
    "version": 3
   },
   "file_extension": ".py",
   "mimetype": "text/x-python",
   "name": "python",
   "nbconvert_exporter": "python",
   "pygments_lexer": "ipython3",
   "version": "3.9.10"
  }
 },
 "nbformat": 4,
 "nbformat_minor": 5
}
