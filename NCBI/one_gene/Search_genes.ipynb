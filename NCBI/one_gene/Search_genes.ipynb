{
 "cells": [
  {
   "cell_type": "code",
   "execution_count": 1,
   "id": "ef64bf89",
   "metadata": {},
   "outputs": [],
   "source": [
    "from selenium import webdriver\n",
    "from time import sleep\n",
    "from selenium.webdriver.common.by import By\n",
    "from bs4 import BeautifulSoup\n",
    "import requests \n",
    "import pandas as pd"
   ]
  },
  {
   "cell_type": "code",
   "execution_count": 2,
   "id": "2edb887f",
   "metadata": {},
   "outputs": [],
   "source": [
    "browser= webdriver.Chrome()\n"
   ]
  },
  {
   "cell_type": "code",
   "execution_count": 3,
   "id": "cc89dcde",
   "metadata": {},
   "outputs": [],
   "source": [
    "url = \"https://www.ncbi.nlm.nih.gov/\"\n",
    "browser.get(url)"
   ]
  },
  {
   "cell_type": "code",
   "execution_count": 4,
   "id": "026ae866",
   "metadata": {},
   "outputs": [],
   "source": [
    "search_win = browser.find_element(By.ID,\"term\")\n",
    "search_win.send_keys(\"KCN\")"
   ]
  },
  {
   "cell_type": "code",
   "execution_count": 5,
   "id": "5a38407f",
   "metadata": {},
   "outputs": [],
   "source": [
    "search_button = browser.find_element(By.ID,\"search\")\n",
    "search_button.click()"
   ]
  },
  {
   "cell_type": "code",
   "execution_count": 6,
   "id": "57533d85",
   "metadata": {},
   "outputs": [
    {
     "ename": "NoSuchElementException",
     "evalue": "Message: no such element: Unable to locate element: {\"method\":\"css selector\",\"selector\":\"[id=\"feat_gene_title\"]\"}\n  (Session info: chrome=102.0.5005.61)\nStacktrace:\n0   chromedriver                        0x00000001028c9170 chromedriver + 4477296\n1   chromedriver                        0x0000000102860c18 chromedriver + 4049944\n2   chromedriver                        0x00000001024b2d40 chromedriver + 191808\n3   chromedriver                        0x00000001024e1b28 chromedriver + 383784\n4   chromedriver                        0x000000010250a85c chromedriver + 551004\n5   chromedriver                        0x00000001024d6f58 chromedriver + 339800\n6   chromedriver                        0x000000010289ebd4 chromedriver + 4303828\n7   chromedriver                        0x00000001028a3094 chromedriver + 4321428\n8   chromedriver                        0x00000001028a7600 chromedriver + 4339200\n9   chromedriver                        0x00000001028a3af4 chromedriver + 4324084\n10  chromedriver                        0x000000010288252c chromedriver + 4187436\n11  chromedriver                        0x00000001028bb488 chromedriver + 4420744\n12  chromedriver                        0x00000001028bb5ec chromedriver + 4421100\n13  chromedriver                        0x00000001028cf92c chromedriver + 4503852\n14  libsystem_pthread.dylib             0x00000001a0dc826c _pthread_start + 148\n15  libsystem_pthread.dylib             0x00000001a0dc308c thread_start + 8\n",
     "output_type": "error",
     "traceback": [
      "\u001b[0;31m---------------------------------------------------------------------------\u001b[0m",
      "\u001b[0;31mNoSuchElementException\u001b[0m                    Traceback (most recent call last)",
      "Input \u001b[0;32mIn [6]\u001b[0m, in \u001b[0;36m<cell line: 1>\u001b[0;34m()\u001b[0m\n\u001b[0;32m----> 1\u001b[0m gene \u001b[38;5;241m=\u001b[39m \u001b[43mbrowser\u001b[49m\u001b[38;5;241;43m.\u001b[39;49m\u001b[43mfind_element\u001b[49m\u001b[43m(\u001b[49m\u001b[43mBy\u001b[49m\u001b[38;5;241;43m.\u001b[39;49m\u001b[43mID\u001b[49m\u001b[43m,\u001b[49m\u001b[38;5;124;43m\"\u001b[39;49m\u001b[38;5;124;43mfeat_gene_title\u001b[39;49m\u001b[38;5;124;43m\"\u001b[39;49m\u001b[43m)\u001b[49m\n\u001b[1;32m      2\u001b[0m gene\u001b[38;5;241m.\u001b[39mclick()\n",
      "File \u001b[0;32m~/miniforge3/lib/python3.9/site-packages/selenium/webdriver/remote/webdriver.py:1251\u001b[0m, in \u001b[0;36mWebDriver.find_element\u001b[0;34m(self, by, value)\u001b[0m\n\u001b[1;32m   1248\u001b[0m     by \u001b[38;5;241m=\u001b[39m By\u001b[38;5;241m.\u001b[39mCSS_SELECTOR\n\u001b[1;32m   1249\u001b[0m     value \u001b[38;5;241m=\u001b[39m \u001b[38;5;124m'\u001b[39m\u001b[38;5;124m[name=\u001b[39m\u001b[38;5;124m\"\u001b[39m\u001b[38;5;132;01m%s\u001b[39;00m\u001b[38;5;124m\"\u001b[39m\u001b[38;5;124m]\u001b[39m\u001b[38;5;124m'\u001b[39m \u001b[38;5;241m%\u001b[39m value\n\u001b[0;32m-> 1251\u001b[0m \u001b[38;5;28;01mreturn\u001b[39;00m \u001b[38;5;28;43mself\u001b[39;49m\u001b[38;5;241;43m.\u001b[39;49m\u001b[43mexecute\u001b[49m\u001b[43m(\u001b[49m\u001b[43mCommand\u001b[49m\u001b[38;5;241;43m.\u001b[39;49m\u001b[43mFIND_ELEMENT\u001b[49m\u001b[43m,\u001b[49m\u001b[43m \u001b[49m\u001b[43m{\u001b[49m\n\u001b[1;32m   1252\u001b[0m \u001b[43m    \u001b[49m\u001b[38;5;124;43m'\u001b[39;49m\u001b[38;5;124;43musing\u001b[39;49m\u001b[38;5;124;43m'\u001b[39;49m\u001b[43m:\u001b[49m\u001b[43m \u001b[49m\u001b[43mby\u001b[49m\u001b[43m,\u001b[49m\n\u001b[1;32m   1253\u001b[0m \u001b[43m    \u001b[49m\u001b[38;5;124;43m'\u001b[39;49m\u001b[38;5;124;43mvalue\u001b[39;49m\u001b[38;5;124;43m'\u001b[39;49m\u001b[43m:\u001b[49m\u001b[43m \u001b[49m\u001b[43mvalue\u001b[49m\u001b[43m}\u001b[49m\u001b[43m)\u001b[49m[\u001b[38;5;124m'\u001b[39m\u001b[38;5;124mvalue\u001b[39m\u001b[38;5;124m'\u001b[39m]\n",
      "File \u001b[0;32m~/miniforge3/lib/python3.9/site-packages/selenium/webdriver/remote/webdriver.py:430\u001b[0m, in \u001b[0;36mWebDriver.execute\u001b[0;34m(self, driver_command, params)\u001b[0m\n\u001b[1;32m    428\u001b[0m response \u001b[38;5;241m=\u001b[39m \u001b[38;5;28mself\u001b[39m\u001b[38;5;241m.\u001b[39mcommand_executor\u001b[38;5;241m.\u001b[39mexecute(driver_command, params)\n\u001b[1;32m    429\u001b[0m \u001b[38;5;28;01mif\u001b[39;00m response:\n\u001b[0;32m--> 430\u001b[0m     \u001b[38;5;28;43mself\u001b[39;49m\u001b[38;5;241;43m.\u001b[39;49m\u001b[43merror_handler\u001b[49m\u001b[38;5;241;43m.\u001b[39;49m\u001b[43mcheck_response\u001b[49m\u001b[43m(\u001b[49m\u001b[43mresponse\u001b[49m\u001b[43m)\u001b[49m\n\u001b[1;32m    431\u001b[0m     response[\u001b[38;5;124m'\u001b[39m\u001b[38;5;124mvalue\u001b[39m\u001b[38;5;124m'\u001b[39m] \u001b[38;5;241m=\u001b[39m \u001b[38;5;28mself\u001b[39m\u001b[38;5;241m.\u001b[39m_unwrap_value(\n\u001b[1;32m    432\u001b[0m         response\u001b[38;5;241m.\u001b[39mget(\u001b[38;5;124m'\u001b[39m\u001b[38;5;124mvalue\u001b[39m\u001b[38;5;124m'\u001b[39m, \u001b[38;5;28;01mNone\u001b[39;00m))\n\u001b[1;32m    433\u001b[0m     \u001b[38;5;28;01mreturn\u001b[39;00m response\n",
      "File \u001b[0;32m~/miniforge3/lib/python3.9/site-packages/selenium/webdriver/remote/errorhandler.py:247\u001b[0m, in \u001b[0;36mErrorHandler.check_response\u001b[0;34m(self, response)\u001b[0m\n\u001b[1;32m    245\u001b[0m         alert_text \u001b[38;5;241m=\u001b[39m value[\u001b[38;5;124m'\u001b[39m\u001b[38;5;124malert\u001b[39m\u001b[38;5;124m'\u001b[39m]\u001b[38;5;241m.\u001b[39mget(\u001b[38;5;124m'\u001b[39m\u001b[38;5;124mtext\u001b[39m\u001b[38;5;124m'\u001b[39m)\n\u001b[1;32m    246\u001b[0m     \u001b[38;5;28;01mraise\u001b[39;00m exception_class(message, screen, stacktrace, alert_text)  \u001b[38;5;66;03m# type: ignore[call-arg]  # mypy is not smart enough here\u001b[39;00m\n\u001b[0;32m--> 247\u001b[0m \u001b[38;5;28;01mraise\u001b[39;00m exception_class(message, screen, stacktrace)\n",
      "\u001b[0;31mNoSuchElementException\u001b[0m: Message: no such element: Unable to locate element: {\"method\":\"css selector\",\"selector\":\"[id=\"feat_gene_title\"]\"}\n  (Session info: chrome=102.0.5005.61)\nStacktrace:\n0   chromedriver                        0x00000001028c9170 chromedriver + 4477296\n1   chromedriver                        0x0000000102860c18 chromedriver + 4049944\n2   chromedriver                        0x00000001024b2d40 chromedriver + 191808\n3   chromedriver                        0x00000001024e1b28 chromedriver + 383784\n4   chromedriver                        0x000000010250a85c chromedriver + 551004\n5   chromedriver                        0x00000001024d6f58 chromedriver + 339800\n6   chromedriver                        0x000000010289ebd4 chromedriver + 4303828\n7   chromedriver                        0x00000001028a3094 chromedriver + 4321428\n8   chromedriver                        0x00000001028a7600 chromedriver + 4339200\n9   chromedriver                        0x00000001028a3af4 chromedriver + 4324084\n10  chromedriver                        0x000000010288252c chromedriver + 4187436\n11  chromedriver                        0x00000001028bb488 chromedriver + 4420744\n12  chromedriver                        0x00000001028bb5ec chromedriver + 4421100\n13  chromedriver                        0x00000001028cf92c chromedriver + 4503852\n14  libsystem_pthread.dylib             0x00000001a0dc826c _pthread_start + 148\n15  libsystem_pthread.dylib             0x00000001a0dc308c thread_start + 8\n"
     ]
    }
   ],
   "source": [
    "gene = browser.find_element(By.ID,\"feat_gene_title\")\n",
    "gene.click()\n"
   ]
  },
  {
   "cell_type": "code",
   "execution_count": null,
   "id": "f979f34a",
   "metadata": {},
   "outputs": [],
   "source": [
    "res = requests.get(url)\n",
    "res\n",
    "\n",
    "soup = BeautifulSoup(res.text,\"html.parser\")\n",
    "#soup\n",
    "gene ={}\n",
    "\n",
    "name = browser.find_element(By.CLASS_NAME,\"title\")\n",
    "gene_url = browser.current_url\n",
    "#categoryItems\n",
    "#categoryItems = categoryItems.find_all(\"dl\")\n",
    "\n",
    "gene[\"name\"] = name.text\n",
    "gene[\"url\"] = gene_url\n",
    "\n",
    "#gene[\"Summary\"] = \n",
    "gene"
   ]
  },
  {
   "cell_type": "code",
   "execution_count": null,
   "id": "805ed829",
   "metadata": {},
   "outputs": [],
   "source": [
    "res = requests.get(gene_url)\n",
    "#res\n",
    "soup = BeautifulSoup(res.text,\"html.parser\")\n",
    "#soup\n",
    "\n",
    "#summaryのテーブル構造を抽出\n",
    "categoryItems = soup.find(\"dl\",attrs={\"id\":\"summaryDl\"})\n",
    "categoryItems = categoryItems.find_all(\"dd\")\n",
    "\n",
    "gene[\"gene_type\"] = categoryItems[4].text\n",
    "gene[\"summary\"] = categoryItems[9].text\n",
    "#gene"
   ]
  },
  {
   "cell_type": "code",
   "execution_count": null,
   "id": "52f17079",
   "metadata": {},
   "outputs": [],
   "source": [
    "Location = soup.find(\"div\",attrs={\"class\":\"gt_cont_contents\"})\n",
    "gene[\"Location\"] = Location.find_all(\"span\")[1].text"
   ]
  },
  {
   "cell_type": "code",
   "execution_count": null,
   "id": "9084784d",
   "metadata": {},
   "outputs": [],
   "source": [
    "df = pd.DataFrame(gene,index = [0])\n",
    "df"
   ]
  },
  {
   "cell_type": "code",
   "execution_count": null,
   "id": "857b69b6",
   "metadata": {},
   "outputs": [],
   "source": [
    "df.to_csv(\"gene.csv\",index = False)"
   ]
  },
  {
   "cell_type": "code",
   "execution_count": null,
   "id": "fcd4ef88",
   "metadata": {},
   "outputs": [],
   "source": []
  }
 ],
 "metadata": {
  "kernelspec": {
   "display_name": "Python 3 (ipykernel)",
   "language": "python",
   "name": "python3"
  },
  "language_info": {
   "codemirror_mode": {
    "name": "ipython",
    "version": 3
   },
   "file_extension": ".py",
   "mimetype": "text/x-python",
   "name": "python",
   "nbconvert_exporter": "python",
   "pygments_lexer": "ipython3",
   "version": "3.9.10"
  }
 },
 "nbformat": 4,
 "nbformat_minor": 5
}
