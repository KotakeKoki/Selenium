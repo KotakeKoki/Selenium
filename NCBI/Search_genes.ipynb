{
 "cells": [
  {
   "cell_type": "code",
   "execution_count": 26,
   "id": "b5e4b0b6",
   "metadata": {},
   "outputs": [],
   "source": [
    "from selenium import webdriver\n",
    "from time import sleep\n",
    "from selenium.webdriver.common.by import By\n",
    "from bs4 import BeautifulSoup\n",
    "import requests \n",
    "import pandas as pd"
   ]
  },
  {
   "cell_type": "code",
   "execution_count": 2,
   "id": "16ea27d0",
   "metadata": {},
   "outputs": [],
   "source": [
    "browser= webdriver.Chrome()\n"
   ]
  },
  {
   "cell_type": "code",
   "execution_count": 3,
   "id": "fc43f610",
   "metadata": {},
   "outputs": [],
   "source": [
    "url = \"https://www.ncbi.nlm.nih.gov/\"\n",
    "browser.get(url)"
   ]
  },
  {
   "cell_type": "code",
   "execution_count": 4,
   "id": "d866c4dc",
   "metadata": {},
   "outputs": [],
   "source": [
    "search_win = browser.find_element(By.ID,\"term\")\n",
    "search_win.send_keys(\"Chgb\")"
   ]
  },
  {
   "cell_type": "code",
   "execution_count": 5,
   "id": "e5de2893",
   "metadata": {},
   "outputs": [],
   "source": [
    "search_button = browser.find_element(By.ID,\"search\")\n",
    "search_button.click()"
   ]
  },
  {
   "cell_type": "code",
   "execution_count": 6,
   "id": "e5da88e9",
   "metadata": {},
   "outputs": [],
   "source": [
    "gene = browser.find_element(By.ID,\"feat_gene_title\")\n",
    "gene.click()\n"
   ]
  },
  {
   "cell_type": "code",
   "execution_count": 29,
   "id": "8bf5875e",
   "metadata": {},
   "outputs": [
    {
     "data": {
      "text/plain": [
       "{'name': 'CHGB chromogranin B [ Homo sapiens (human) ]',\n",
       " 'url': 'https://www.ncbi.nlm.nih.gov/gene/1114'}"
      ]
     },
     "execution_count": 29,
     "metadata": {},
     "output_type": "execute_result"
    }
   ],
   "source": [
    "res = requests.get(url)\n",
    "res\n",
    "\n",
    "soup = BeautifulSoup(res.text,\"html.parser\")\n",
    "#soup\n",
    "gene ={}\n",
    "\n",
    "name = browser.find_element(By.CLASS_NAME,\"title\")\n",
    "gene_url = browser.current_url\n",
    "#categoryItems\n",
    "#categoryItems = categoryItems.find_all(\"dl\")\n",
    "\n",
    "gene[\"name\"] = name.text\n",
    "gene[\"url\"] = gene_url\n",
    "\n",
    "#gene[\"Summary\"] = \n",
    "gene"
   ]
  },
  {
   "cell_type": "code",
   "execution_count": 30,
   "id": "c9fb2c00",
   "metadata": {},
   "outputs": [
    {
     "data": {
      "text/plain": [
       "{'name': 'CHGB chromogranin B [ Homo sapiens (human) ]',\n",
       " 'url': 'https://www.ncbi.nlm.nih.gov/gene/1114',\n",
       " 'gene_type': 'protein coding',\n",
       " 'summary': 'This gene encodes a tyrosine-sulfated secretory protein abundant in peptidergic endocrine cells and neurons. This protein may serve as a precursor for regulatory peptides. [provided by RefSeq, Jan 2009]'}"
      ]
     },
     "execution_count": 30,
     "metadata": {},
     "output_type": "execute_result"
    }
   ],
   "source": [
    "res = requests.get(gene_url)\n",
    "res\n",
    "soup = BeautifulSoup(res.text,\"html.parser\")\n",
    "soup\n",
    "\n",
    "#summaryのテーブル構造を抽出\n",
    "categoryItems = soup.find(\"dl\",attrs={\"id\":\"summaryDl\"})\n",
    "categoryItems = categoryItems.find_all(\"dd\")\n",
    "\n",
    "gene[\"gene_type\"] = categoryItems[4].text\n",
    "gene[\"summary\"] = categoryItems[9].text\n",
    "gene"
   ]
  },
  {
   "cell_type": "code",
   "execution_count": 31,
   "id": "81eba0c1",
   "metadata": {},
   "outputs": [],
   "source": [
    "Location = soup.find(\"div\",attrs={\"class\":\"gt_cont_contents\"})\n",
    "gene[\"Location\"] = Location.find_all(\"span\")[1].text"
   ]
  },
  {
   "cell_type": "code",
   "execution_count": 35,
   "id": "01025e1d",
   "metadata": {},
   "outputs": [
    {
     "data": {
      "text/html": [
       "<div>\n",
       "<style scoped>\n",
       "    .dataframe tbody tr th:only-of-type {\n",
       "        vertical-align: middle;\n",
       "    }\n",
       "\n",
       "    .dataframe tbody tr th {\n",
       "        vertical-align: top;\n",
       "    }\n",
       "\n",
       "    .dataframe thead th {\n",
       "        text-align: right;\n",
       "    }\n",
       "</style>\n",
       "<table border=\"1\" class=\"dataframe\">\n",
       "  <thead>\n",
       "    <tr style=\"text-align: right;\">\n",
       "      <th></th>\n",
       "      <th>name</th>\n",
       "      <th>url</th>\n",
       "      <th>gene_type</th>\n",
       "      <th>summary</th>\n",
       "      <th>Location</th>\n",
       "    </tr>\n",
       "  </thead>\n",
       "  <tbody>\n",
       "    <tr>\n",
       "      <th>0</th>\n",
       "      <td>CHGB chromogranin B [ Homo sapiens (human) ]</td>\n",
       "      <td>https://www.ncbi.nlm.nih.gov/gene/1114</td>\n",
       "      <td>protein coding</td>\n",
       "      <td>This gene encodes a tyrosine-sulfated secretor...</td>\n",
       "      <td>20p12.3</td>\n",
       "    </tr>\n",
       "  </tbody>\n",
       "</table>\n",
       "</div>"
      ],
      "text/plain": [
       "                                           name  \\\n",
       "0  CHGB chromogranin B [ Homo sapiens (human) ]   \n",
       "\n",
       "                                      url       gene_type  \\\n",
       "0  https://www.ncbi.nlm.nih.gov/gene/1114  protein coding   \n",
       "\n",
       "                                             summary Location  \n",
       "0  This gene encodes a tyrosine-sulfated secretor...  20p12.3  "
      ]
     },
     "execution_count": 35,
     "metadata": {},
     "output_type": "execute_result"
    }
   ],
   "source": [
    "df = pd.DataFrame(gene,index = [0])\n",
    "df"
   ]
  },
  {
   "cell_type": "code",
   "execution_count": 36,
   "id": "f2cf5d1b",
   "metadata": {},
   "outputs": [],
   "source": [
    "df.to_csv(\"gene.csv\",index = False)"
   ]
  }
 ],
 "metadata": {
  "kernelspec": {
   "display_name": "Python 3 (ipykernel)",
   "language": "python",
   "name": "python3"
  },
  "language_info": {
   "codemirror_mode": {
    "name": "ipython",
    "version": 3
   },
   "file_extension": ".py",
   "mimetype": "text/x-python",
   "name": "python",
   "nbconvert_exporter": "python",
   "pygments_lexer": "ipython3",
   "version": "3.9.10"
  }
 },
 "nbformat": 4,
 "nbformat_minor": 5
}
