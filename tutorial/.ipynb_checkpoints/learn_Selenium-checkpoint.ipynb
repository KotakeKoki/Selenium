{
 "cells": [
  {
   "cell_type": "code",
   "execution_count": 52,
   "id": "e2015bd3",
   "metadata": {},
   "outputs": [],
   "source": [
    "#This is the script written accorting to the Youtube video (https://www.youtube.com/watch?v=f8FXUUQ4uRA)\n",
    "\n",
    "#! pip install Selenium"
   ]
  },
  {
   "cell_type": "code",
   "execution_count": 53,
   "id": "c45b4b4d",
   "metadata": {},
   "outputs": [],
   "source": [
    "#!brew install webdriver"
   ]
  },
  {
   "cell_type": "code",
   "execution_count": 54,
   "id": "029cd385",
   "metadata": {},
   "outputs": [],
   "source": [
    "from selenium import webdriver\n",
    "from time import sleep\n",
    "from selenium.webdriver.common.by import By\n"
   ]
  },
  {
   "cell_type": "code",
   "execution_count": 55,
   "id": "a51c2744",
   "metadata": {},
   "outputs": [],
   "source": [
    "browser = webdriver.Chrome()"
   ]
  },
  {
   "cell_type": "code",
   "execution_count": 56,
   "id": "abb6acdb",
   "metadata": {},
   "outputs": [],
   "source": [
    "browser = webdriver.Chrome()\n",
    "url = \"https://scraping-for-beginner.herokuapp.com/login_page\"\n",
    "browser.get(url)"
   ]
  },
  {
   "cell_type": "code",
   "execution_count": 57,
   "id": "face5304",
   "metadata": {},
   "outputs": [],
   "source": [
    "#Get the element what I want by ID\n",
    "elem_username = browser.find_element(By.ID,\"username\")\n",
    "elem_username.send_keys(\"imanishi\")\n"
   ]
  },
  {
   "cell_type": "code",
   "execution_count": 58,
   "id": "407b008c",
   "metadata": {},
   "outputs": [],
   "source": [
    "elem_password = browser.find_element(By.ID,\"password\")\n",
    "elem_password.send_keys(\"kohei\")"
   ]
  },
  {
   "cell_type": "code",
   "execution_count": 59,
   "id": "220f557d",
   "metadata": {},
   "outputs": [],
   "source": [
    "elem_button = browser.find_element(By.ID,\"login-btn\")\n",
    "elem_button.click()\n",
    "#Finish logged in\n"
   ]
  },
  {
   "cell_type": "code",
   "execution_count": 60,
   "id": "7079c1e3",
   "metadata": {},
   "outputs": [
    {
     "data": {
      "text/plain": [
       "'headless mode(Don\\'t open the web browser)\\n\\nfrom selenium.webdriver.chrome.options import Options\\noptions = Options()\\noptions.add_argument(\"--headless\")\\n\\nbrowser = webdriver.Chrome(options=options)\\nurl = \"https://scraping-for-beginner.herokuapp.com/login_page\"\\nbrowser.get(url)\\nbrowser.quit()\\n\\n'"
      ]
     },
     "execution_count": 60,
     "metadata": {},
     "output_type": "execute_result"
    }
   ],
   "source": [
    "\"\"\"headless mode(Don't open the web browser)\n",
    "\n",
    "from selenium.webdriver.chrome.options import Options\n",
    "options = Options()\n",
    "options.add_argument(\"--headless\")\n",
    "\n",
    "browser = webdriver.Chrome(options=options)\n",
    "url = \"https://scraping-for-beginner.herokuapp.com/login_page\"\n",
    "browser.get(url)\n",
    "browser.quit()\n",
    "\n",
    "\"\"\""
   ]
  },
  {
   "cell_type": "code",
   "execution_count": 61,
   "id": "e0560b02",
   "metadata": {},
   "outputs": [
    {
     "data": {
      "text/plain": [
       "'今西 航平'"
      ]
     },
     "execution_count": 61,
     "metadata": {},
     "output_type": "execute_result"
    }
   ],
   "source": [
    "elem = browser.find_element(By.ID,\"name\")\n",
    "elem.text"
   ]
  },
  {
   "cell_type": "code",
   "execution_count": 62,
   "id": "e06132d7",
   "metadata": {},
   "outputs": [
    {
     "data": {
      "text/plain": [
       "'株式会社キカガク'"
      ]
     },
     "execution_count": 62,
     "metadata": {},
     "output_type": "execute_result"
    }
   ],
   "source": [
    "elem = browser.find_element(By.ID,\"company\")\n",
    "elem.text\n"
   ]
  },
  {
   "cell_type": "code",
   "execution_count": 64,
   "id": "b0837c63",
   "metadata": {},
   "outputs": [
    {
     "data": {
      "text/plain": [
       "'1994年7月15日'"
      ]
     },
     "execution_count": 64,
     "metadata": {},
     "output_type": "execute_result"
    }
   ],
   "source": [
    "elem = browser.find_element(By.ID,\"birthday\")\n",
    "elem.text"
   ]
  },
  {
   "cell_type": "code",
   "execution_count": 67,
   "id": "703284a1",
   "metadata": {},
   "outputs": [
    {
     "data": {
      "text/plain": [
       "'バスケットボール,読書,ガジェット集め'"
      ]
     },
     "execution_count": 67,
     "metadata": {},
     "output_type": "execute_result"
    }
   ],
   "source": [
    "elem = browser.find_element(By.ID,\"hobby\")\n",
    "hobby = elem.text\n",
    "#replace character\n",
    "hobby = hobby.replace(\"\\n\",\",\")\n",
    "hobby"
   ]
  },
  {
   "cell_type": "code",
   "execution_count": 70,
   "id": "17936b8a",
   "metadata": {},
   "outputs": [
    {
     "data": {
      "text/plain": [
       "'講師名'"
      ]
     },
     "execution_count": 70,
     "metadata": {},
     "output_type": "execute_result"
    }
   ],
   "source": [
    "#Get the first table\n",
    "elem_th = browser.find_element(By.TAG_NAME,\"th\")\n",
    "elem_th.text"
   ]
  },
  {
   "cell_type": "code",
   "execution_count": 75,
   "id": "6f89c1b3",
   "metadata": {},
   "outputs": [
    {
     "data": {
      "text/plain": [
       "[<selenium.webdriver.remote.webelement.WebElement (session=\"97a74878a3118dd66b33592b0268a38b\", element=\"60a43ea5-10ac-4620-a5e9-401905686da3\")>,\n",
       " <selenium.webdriver.remote.webelement.WebElement (session=\"97a74878a3118dd66b33592b0268a38b\", element=\"8a291d34-cffb-4634-9508-488f5733ef27\")>,\n",
       " <selenium.webdriver.remote.webelement.WebElement (session=\"97a74878a3118dd66b33592b0268a38b\", element=\"ccfd1b0d-6d7c-4e96-9a66-c849e87dc6cf\")>,\n",
       " <selenium.webdriver.remote.webelement.WebElement (session=\"97a74878a3118dd66b33592b0268a38b\", element=\"94d99d36-f2ba-4dab-ba89-cf7150e9f126\")>,\n",
       " <selenium.webdriver.remote.webelement.WebElement (session=\"97a74878a3118dd66b33592b0268a38b\", element=\"2e1d2e14-66a8-4d3b-8272-ebf31297cdab\")>]"
      ]
     },
     "execution_count": 75,
     "metadata": {},
     "output_type": "execute_result"
    }
   ],
   "source": [
    "#Get multiple tables\n",
    "elems_th = browser.find_elements(By.TAG_NAME,\"th\")\n",
    "elems_th\n",
    "#We could get 5 tables"
   ]
  },
  {
   "cell_type": "code",
   "execution_count": 76,
   "id": "e21de48b",
   "metadata": {},
   "outputs": [
    {
     "data": {
      "text/plain": [
       "'趣味'"
      ]
     },
     "execution_count": 76,
     "metadata": {},
     "output_type": "execute_result"
    }
   ],
   "source": [
    "elems_th[4].text"
   ]
  },
  {
   "cell_type": "code",
   "execution_count": 81,
   "id": "19177f10",
   "metadata": {},
   "outputs": [
    {
     "name": "stdout",
     "output_type": "stream",
     "text": [
      "講師名\n",
      "所属企業\n",
      "生年月日\n",
      "出身\n",
      "趣味\n"
     ]
    }
   ],
   "source": [
    "#make a dictionary \n",
    "keys = []\n",
    "for elem_th in elems_th :\n",
    "    key = elem_th.text\n",
    "    keys.append(key)"
   ]
  },
  {
   "cell_type": "code",
   "execution_count": 82,
   "id": "2dace183",
   "metadata": {},
   "outputs": [
    {
     "data": {
      "text/plain": [
       "['講師名', '所属企業', '生年月日', '出身', '趣味']"
      ]
     },
     "execution_count": 82,
     "metadata": {},
     "output_type": "execute_result"
    }
   ],
   "source": [
    "keys"
   ]
  },
  {
   "cell_type": "code",
   "execution_count": 84,
   "id": "e7eea640",
   "metadata": {},
   "outputs": [],
   "source": [
    "elems_td = browser.find_elements(By.TAG_NAME,\"td\")\n",
    "values = []\n",
    "for elem_td in elems_td :\n",
    "    value = elem_td.text\n",
    "    values.append(value)"
   ]
  },
  {
   "cell_type": "code",
   "execution_count": 85,
   "id": "bdd80247",
   "metadata": {},
   "outputs": [
    {
     "data": {
      "text/plain": [
       "['今西 航平', '株式会社キカガク', '1994年7月15日', '千葉県', 'バスケットボール\\n読書\\nガジェット集め']"
      ]
     },
     "execution_count": 85,
     "metadata": {},
     "output_type": "execute_result"
    }
   ],
   "source": [
    "values"
   ]
  },
  {
   "cell_type": "code",
   "execution_count": 87,
   "id": "3a781be6",
   "metadata": {},
   "outputs": [
    {
     "data": {
      "text/html": [
       "<div>\n",
       "<style scoped>\n",
       "    .dataframe tbody tr th:only-of-type {\n",
       "        vertical-align: middle;\n",
       "    }\n",
       "\n",
       "    .dataframe tbody tr th {\n",
       "        vertical-align: top;\n",
       "    }\n",
       "\n",
       "    .dataframe thead th {\n",
       "        text-align: right;\n",
       "    }\n",
       "</style>\n",
       "<table border=\"1\" class=\"dataframe\">\n",
       "  <thead>\n",
       "    <tr style=\"text-align: right;\">\n",
       "      <th></th>\n",
       "      <th>項目</th>\n",
       "      <th>値</th>\n",
       "    </tr>\n",
       "  </thead>\n",
       "  <tbody>\n",
       "    <tr>\n",
       "      <th>0</th>\n",
       "      <td>講師名</td>\n",
       "      <td>今西 航平</td>\n",
       "    </tr>\n",
       "    <tr>\n",
       "      <th>1</th>\n",
       "      <td>所属企業</td>\n",
       "      <td>株式会社キカガク</td>\n",
       "    </tr>\n",
       "    <tr>\n",
       "      <th>2</th>\n",
       "      <td>生年月日</td>\n",
       "      <td>1994年7月15日</td>\n",
       "    </tr>\n",
       "    <tr>\n",
       "      <th>3</th>\n",
       "      <td>出身</td>\n",
       "      <td>千葉県</td>\n",
       "    </tr>\n",
       "    <tr>\n",
       "      <th>4</th>\n",
       "      <td>趣味</td>\n",
       "      <td>バスケットボール\\n読書\\nガジェット集め</td>\n",
       "    </tr>\n",
       "  </tbody>\n",
       "</table>\n",
       "</div>"
      ],
      "text/plain": [
       "     項目                      値\n",
       "0   講師名                  今西 航平\n",
       "1  所属企業               株式会社キカガク\n",
       "2  生年月日             1994年7月15日\n",
       "3    出身                    千葉県\n",
       "4    趣味  バスケットボール\\n読書\\nガジェット集め"
      ]
     },
     "execution_count": 87,
     "metadata": {},
     "output_type": "execute_result"
    }
   ],
   "source": [
    "#Output CSV\n",
    "import pandas as pd \n",
    "df = pd.DataFrame()\n",
    "\n",
    "df[\"項目\"] = keys\n",
    "df[\"値\"] = values\n",
    "\n",
    "df\n"
   ]
  },
  {
   "cell_type": "code",
   "execution_count": 88,
   "id": "472d7aed",
   "metadata": {},
   "outputs": [],
   "source": [
    "df.to_csv(\"講師情報.csv\")"
   ]
  },
  {
   "cell_type": "code",
   "execution_count": null,
   "id": "036aed27",
   "metadata": {},
   "outputs": [],
   "source": []
  }
 ],
 "metadata": {
  "interpreter": {
   "hash": "9ddcec1ebe89a027dd8387debcf83fdbf916e0c695273745849a5938d2ceab9a"
  },
  "kernelspec": {
   "display_name": "Python 3 (ipykernel)",
   "language": "python",
   "name": "python3"
  },
  "language_info": {
   "codemirror_mode": {
    "name": "ipython",
    "version": 3
   },
   "file_extension": ".py",
   "mimetype": "text/x-python",
   "name": "python",
   "nbconvert_exporter": "python",
   "pygments_lexer": "ipython3",
   "version": "3.9.10"
  }
 },
 "nbformat": 4,
 "nbformat_minor": 5
}
