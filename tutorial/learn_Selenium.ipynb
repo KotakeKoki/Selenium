{
 "cells": [
  {
   "cell_type": "code",
   "execution_count": null,
   "id": "e2015bd3",
   "metadata": {},
   "outputs": [],
   "source": [
    "#! pip install Selenium"
   ]
  },
  {
   "cell_type": "code",
   "execution_count": null,
   "id": "c45b4b4d",
   "metadata": {},
   "outputs": [],
   "source": [
    "#!brew install "
   ]
  },
  {
   "cell_type": "code",
   "execution_count": 13,
   "id": "029cd385",
   "metadata": {},
   "outputs": [],
   "source": [
    "from selenium import webdriver\n",
    "from time import sleep\n"
   ]
  },
  {
   "cell_type": "code",
   "execution_count": 14,
   "id": "a51c2744",
   "metadata": {},
   "outputs": [],
   "source": [
    "browser = webdriver.Chrome()"
   ]
  },
  {
   "cell_type": "code",
   "execution_count": 15,
   "id": "19e20f08",
   "metadata": {},
   "outputs": [],
   "source": [
    "browser.quit()"
   ]
  },
  {
   "cell_type": "code",
   "execution_count": 16,
   "id": "abb6acdb",
   "metadata": {},
   "outputs": [],
   "source": [
    "browser = webdriver.Chrome()\n",
    "url = \"https://scraping-for-beginner.herokuapp.com/login_page\"\n",
    "browser.get(url)"
   ]
  },
  {
   "cell_type": "code",
   "execution_count": 20,
   "id": "face5304",
   "metadata": {},
   "outputs": [
    {
     "name": "stderr",
     "output_type": "stream",
     "text": [
      "/var/folders/44/1q3pfq7n6pq6jz231ytyrqjh0000gn/T/ipykernel_21288/3613606163.py:1: DeprecationWarning: find_element_by_* commands are deprecated. Please use find_element() instead\n",
      "  browser.find_element_by_id(\"username\")\n"
     ]
    },
    {
     "data": {
      "text/plain": [
       "<selenium.webdriver.remote.webelement.WebElement (session=\"d9139b8b55b875e84e5819ace6d504f6\", element=\"0a4b8db0-265c-4c4e-9df6-f465beb872eb\")>"
      ]
     },
     "execution_count": 20,
     "metadata": {},
     "output_type": "execute_result"
    }
   ],
   "source": [
    "browser.find_element_by_id(\"username\")"
   ]
  },
  {
   "cell_type": "code",
   "execution_count": null,
   "id": "6410e074",
   "metadata": {},
   "outputs": [],
   "source": []
  },
  {
   "cell_type": "code",
   "execution_count": null,
   "id": "8721fb91",
   "metadata": {},
   "outputs": [],
   "source": []
  }
 ],
 "metadata": {
  "kernelspec": {
   "display_name": "Python 3 (ipykernel)",
   "language": "python",
   "name": "python3"
  },
  "language_info": {
   "codemirror_mode": {
    "name": "ipython",
    "version": 3
   },
   "file_extension": ".py",
   "mimetype": "text/x-python",
   "name": "python",
   "nbconvert_exporter": "python",
   "pygments_lexer": "ipython3",
   "version": "3.9.10"
  }
 },
 "nbformat": 4,
 "nbformat_minor": 5
}
