{
 "cells": [
  {
   "cell_type": "code",
   "execution_count": 38,
   "id": "e2015bd3",
   "metadata": {},
   "outputs": [],
   "source": [
    "#! pip install Selenium"
   ]
  },
  {
   "cell_type": "code",
   "execution_count": 39,
   "id": "c45b4b4d",
   "metadata": {},
   "outputs": [],
   "source": [
    "#!brew install "
   ]
  },
  {
   "cell_type": "code",
   "execution_count": 40,
   "id": "029cd385",
   "metadata": {},
   "outputs": [],
   "source": [
    "from selenium import webdriver\n",
    "from time import sleep\n",
    "from selenium.webdriver.common.by import By\n"
   ]
  },
  {
   "cell_type": "code",
   "execution_count": 41,
   "id": "a51c2744",
   "metadata": {},
   "outputs": [],
   "source": [
    "browser = webdriver.Chrome()"
   ]
  },
  {
   "cell_type": "code",
   "execution_count": 42,
   "id": "abb6acdb",
   "metadata": {},
   "outputs": [],
   "source": [
    "browser = webdriver.Chrome()\n",
    "url = \"https://scraping-for-beginner.herokuapp.com/login_page\"\n",
    "browser.get(url)"
   ]
  },
  {
   "cell_type": "code",
   "execution_count": 43,
   "id": "face5304",
   "metadata": {},
   "outputs": [],
   "source": [
    "#Get the element what I want by ID\n",
    "elem_username = browser.find_element(By.ID,\"username\")\n",
    "elem_username.send_keys(\"imanishi\")\n"
   ]
  },
  {
   "cell_type": "code",
   "execution_count": 44,
   "id": "407b008c",
   "metadata": {},
   "outputs": [],
   "source": [
    "elem_password = browser.find_element(By.ID,\"password\")\n",
    "elem_password.send_keys(\"kohei\")"
   ]
  },
  {
   "cell_type": "code",
   "execution_count": 45,
   "id": "220f557d",
   "metadata": {},
   "outputs": [],
   "source": [
    "elem_button = browser.find_element(By.ID,\"login-btn\")\n",
    "elem_button.click()\n",
    "#Finish logged in\n"
   ]
  },
  {
   "cell_type": "code",
   "execution_count": 47,
   "id": "7079c1e3",
   "metadata": {},
   "outputs": [],
   "source": [
    "\"\"\"headless mode(Don't open the web browser)\n",
    "\n",
    "from selenium.webdriver.chrome.options import Options\n",
    "options = Options()\n",
    "options.add_argument(\"--headless\")\n",
    "\n",
    "browser = webdriver.Chrome(options=options)\n",
    "url = \"https://scraping-for-beginner.herokuapp.com/login_page\"\n",
    "browser.get(url)\n",
    "browser.quit()\n",
    "\n",
    "\"\"\""
   ]
  }
 ],
 "metadata": {
  "interpreter": {
   "hash": "9ddcec1ebe89a027dd8387debcf83fdbf916e0c695273745849a5938d2ceab9a"
  },
  "kernelspec": {
   "display_name": "Python 3.9.10 ('base')",
   "language": "python",
   "name": "python3"
  },
  "language_info": {
   "codemirror_mode": {
    "name": "ipython",
    "version": 3
   },
   "file_extension": ".py",
   "mimetype": "text/x-python",
   "name": "python",
   "nbconvert_exporter": "python",
   "pygments_lexer": "ipython3",
   "version": "3.9.10"
  }
 },
 "nbformat": 4,
 "nbformat_minor": 5
}
