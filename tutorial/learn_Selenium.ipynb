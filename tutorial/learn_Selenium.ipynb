{
 "cells": [
  {
   "cell_type": "code",
   "execution_count": 1,
   "id": "e2015bd3",
   "metadata": {},
   "outputs": [],
   "source": [
    "#This is the script written accorting to the Youtube video (https://www.youtube.com/watch?v=f8FXUUQ4uRA)\n",
    "\n",
    "#! pip install Selenium"
   ]
  },
  {
   "cell_type": "code",
   "execution_count": 2,
   "id": "c45b4b4d",
   "metadata": {},
   "outputs": [],
   "source": [
    "#!brew install webdriver"
   ]
  },
  {
   "cell_type": "code",
   "execution_count": 3,
   "id": "029cd385",
   "metadata": {
    "lines_to_next_cell": 2
   },
   "outputs": [],
   "source": [
    "from selenium import webdriver\n",
    "from time import sleep\n",
    "from selenium.webdriver.common.by import By"
   ]
  },
  {
   "cell_type": "code",
   "execution_count": 4,
   "id": "a51c2744",
   "metadata": {},
   "outputs": [],
   "source": [
    "browser = webdriver.Chrome()"
   ]
  },
  {
   "cell_type": "code",
   "execution_count": 5,
   "id": "abb6acdb",
   "metadata": {},
   "outputs": [],
   "source": [
    "browser = webdriver.Chrome()\n",
    "url = \"https://scraping-for-beginner.herokuapp.com/login_page\"\n",
    "browser.get(url)"
   ]
  },
  {
   "cell_type": "code",
   "execution_count": 6,
   "id": "face5304",
   "metadata": {
    "lines_to_next_cell": 2
   },
   "outputs": [],
   "source": [
    "#Get the element what I want by ID\n",
    "elem_username = browser.find_element(By.ID,\"username\")\n",
    "elem_username.send_keys(\"imanishi\")"
   ]
  },
  {
   "cell_type": "code",
   "execution_count": 7,
   "id": "407b008c",
   "metadata": {},
   "outputs": [],
   "source": [
    "elem_password = browser.find_element(By.ID,\"password\")\n",
    "elem_password.send_keys(\"kohei\")"
   ]
  },
  {
   "cell_type": "code",
   "execution_count": 8,
   "id": "220f557d",
   "metadata": {
    "lines_to_next_cell": 2
   },
   "outputs": [],
   "source": [
    "elem_button = browser.find_element(By.ID,\"login-btn\")\n",
    "elem_button.click()\n",
    "#Finish logged in"
   ]
  },
  {
   "cell_type": "code",
   "execution_count": 9,
   "id": "7079c1e3",
   "metadata": {},
   "outputs": [
    {
     "data": {
      "text/plain": [
       "'headless mode(Don\\'t open the web browser)\\n\\nfrom selenium.webdriver.chrome.options import Options\\noptions = Options()\\noptions.add_argument(\"--headless\")\\n\\nbrowser = webdriver.Chrome(options=options)\\nurl = \"https://scraping-for-beginner.herokuapp.com/login_page\"\\nbrowser.get(url)\\nbrowser.quit()\\n\\n'"
      ]
     },
     "execution_count": 9,
     "metadata": {},
     "output_type": "execute_result"
    }
   ],
   "source": [
    "\"\"\"headless mode(Don't open the web browser)\n",
    "\n",
    "from selenium.webdriver.chrome.options import Options\n",
    "options = Options()\n",
    "options.add_argument(\"--headless\")\n",
    "\n",
    "browser = webdriver.Chrome(options=options)\n",
    "url = \"https://scraping-for-beginner.herokuapp.com/login_page\"\n",
    "browser.get(url)\n",
    "browser.quit()\n",
    "\n",
    "\"\"\""
   ]
  },
  {
   "cell_type": "code",
   "execution_count": 10,
   "id": "e0560b02",
   "metadata": {},
   "outputs": [
    {
     "data": {
      "text/plain": [
       "'今西 航平'"
      ]
     },
     "execution_count": 10,
     "metadata": {},
     "output_type": "execute_result"
    }
   ],
   "source": [
    "elem = browser.find_element(By.ID,\"name\")\n",
    "elem.text"
   ]
  },
  {
   "cell_type": "code",
   "execution_count": 11,
   "id": "e06132d7",
   "metadata": {
    "lines_to_next_cell": 2
   },
   "outputs": [
    {
     "data": {
      "text/plain": [
       "'株式会社キカガク'"
      ]
     },
     "execution_count": 11,
     "metadata": {},
     "output_type": "execute_result"
    }
   ],
   "source": [
    "elem = browser.find_element(By.ID,\"company\")\n",
    "elem.text"
   ]
  },
  {
   "cell_type": "code",
   "execution_count": 12,
   "id": "b0837c63",
   "metadata": {},
   "outputs": [
    {
     "data": {
      "text/plain": [
       "'1994年7月15日'"
      ]
     },
     "execution_count": 12,
     "metadata": {},
     "output_type": "execute_result"
    }
   ],
   "source": [
    "elem = browser.find_element(By.ID,\"birthday\")\n",
    "elem.text"
   ]
  },
  {
   "cell_type": "code",
   "execution_count": 13,
   "id": "703284a1",
   "metadata": {},
   "outputs": [
    {
     "data": {
      "text/plain": [
       "'バスケットボール,読書,ガジェット集め'"
      ]
     },
     "execution_count": 13,
     "metadata": {},
     "output_type": "execute_result"
    }
   ],
   "source": [
    "elem = browser.find_element(By.ID,\"hobby\")\n",
    "hobby = elem.text\n",
    "#replace character\n",
    "hobby = hobby.replace(\"\\n\",\",\")\n",
    "hobby"
   ]
  },
  {
   "cell_type": "code",
   "execution_count": 14,
   "id": "17936b8a",
   "metadata": {},
   "outputs": [
    {
     "data": {
      "text/plain": [
       "'講師名'"
      ]
     },
     "execution_count": 14,
     "metadata": {},
     "output_type": "execute_result"
    }
   ],
   "source": [
    "#Get the first table\n",
    "elem_th = browser.find_element(By.TAG_NAME,\"th\")\n",
    "elem_th.text"
   ]
  },
  {
   "cell_type": "code",
   "execution_count": 15,
   "id": "6f89c1b3",
   "metadata": {},
   "outputs": [
    {
     "data": {
      "text/plain": [
       "[<selenium.webdriver.remote.webelement.WebElement (session=\"98703527cffeb9fe650009b577210e94\", element=\"fba2f125-1bed-4775-a3c1-a0fd062b63f3\")>,\n",
       " <selenium.webdriver.remote.webelement.WebElement (session=\"98703527cffeb9fe650009b577210e94\", element=\"d6f639c5-f300-45b4-962f-6c520fdc7360\")>,\n",
       " <selenium.webdriver.remote.webelement.WebElement (session=\"98703527cffeb9fe650009b577210e94\", element=\"c6e48d1a-1fde-4376-9dfc-aec93fcfc937\")>,\n",
       " <selenium.webdriver.remote.webelement.WebElement (session=\"98703527cffeb9fe650009b577210e94\", element=\"af5964ed-77c8-4af8-a5b8-a3f2abf1bd68\")>,\n",
       " <selenium.webdriver.remote.webelement.WebElement (session=\"98703527cffeb9fe650009b577210e94\", element=\"51d5a118-53c8-42b9-8e6d-ec4b3bec801b\")>]"
      ]
     },
     "execution_count": 15,
     "metadata": {},
     "output_type": "execute_result"
    }
   ],
   "source": [
    "#Get multiple tables\n",
    "elems_th = browser.find_elements(By.TAG_NAME,\"th\")\n",
    "elems_th\n",
    "#We could get 5 tables"
   ]
  },
  {
   "cell_type": "code",
   "execution_count": 16,
   "id": "e21de48b",
   "metadata": {},
   "outputs": [
    {
     "data": {
      "text/plain": [
       "'趣味'"
      ]
     },
     "execution_count": 16,
     "metadata": {},
     "output_type": "execute_result"
    }
   ],
   "source": [
    "elems_th[4].text"
   ]
  },
  {
   "cell_type": "code",
   "execution_count": 17,
   "id": "19177f10",
   "metadata": {},
   "outputs": [],
   "source": [
    "#make a dictionary \n",
    "keys = []\n",
    "for elem_th in elems_th :\n",
    "    key = elem_th.text\n",
    "    keys.append(key)"
   ]
  },
  {
   "cell_type": "code",
   "execution_count": 18,
   "id": "2dace183",
   "metadata": {},
   "outputs": [
    {
     "data": {
      "text/plain": [
       "['講師名', '所属企業', '生年月日', '出身', '趣味']"
      ]
     },
     "execution_count": 18,
     "metadata": {},
     "output_type": "execute_result"
    }
   ],
   "source": [
    "keys"
   ]
  },
  {
   "cell_type": "code",
   "execution_count": 19,
   "id": "e7eea640",
   "metadata": {},
   "outputs": [],
   "source": [
    "elems_td = browser.find_elements(By.TAG_NAME,\"td\")\n",
    "values = []\n",
    "for elem_td in elems_td :\n",
    "    value = elem_td.text\n",
    "    values.append(value)"
   ]
  },
  {
   "cell_type": "code",
   "execution_count": 20,
   "id": "bdd80247",
   "metadata": {},
   "outputs": [
    {
     "data": {
      "text/plain": [
       "['今西 航平', '株式会社キカガク', '1994年7月15日', '千葉県', 'バスケットボール\\n読書\\nガジェット集め']"
      ]
     },
     "execution_count": 20,
     "metadata": {},
     "output_type": "execute_result"
    }
   ],
   "source": [
    "values"
   ]
  },
  {
   "cell_type": "code",
   "execution_count": 21,
   "id": "3a781be6",
   "metadata": {},
   "outputs": [
    {
     "data": {
      "text/html": [
       "<div>\n",
       "<style scoped>\n",
       "    .dataframe tbody tr th:only-of-type {\n",
       "        vertical-align: middle;\n",
       "    }\n",
       "\n",
       "    .dataframe tbody tr th {\n",
       "        vertical-align: top;\n",
       "    }\n",
       "\n",
       "    .dataframe thead th {\n",
       "        text-align: right;\n",
       "    }\n",
       "</style>\n",
       "<table border=\"1\" class=\"dataframe\">\n",
       "  <thead>\n",
       "    <tr style=\"text-align: right;\">\n",
       "      <th></th>\n",
       "      <th>項目</th>\n",
       "      <th>値</th>\n",
       "    </tr>\n",
       "  </thead>\n",
       "  <tbody>\n",
       "    <tr>\n",
       "      <th>0</th>\n",
       "      <td>講師名</td>\n",
       "      <td>今西 航平</td>\n",
       "    </tr>\n",
       "    <tr>\n",
       "      <th>1</th>\n",
       "      <td>所属企業</td>\n",
       "      <td>株式会社キカガク</td>\n",
       "    </tr>\n",
       "    <tr>\n",
       "      <th>2</th>\n",
       "      <td>生年月日</td>\n",
       "      <td>1994年7月15日</td>\n",
       "    </tr>\n",
       "    <tr>\n",
       "      <th>3</th>\n",
       "      <td>出身</td>\n",
       "      <td>千葉県</td>\n",
       "    </tr>\n",
       "    <tr>\n",
       "      <th>4</th>\n",
       "      <td>趣味</td>\n",
       "      <td>バスケットボール\\n読書\\nガジェット集め</td>\n",
       "    </tr>\n",
       "  </tbody>\n",
       "</table>\n",
       "</div>"
      ],
      "text/plain": [
       "     項目                      値\n",
       "0   講師名                  今西 航平\n",
       "1  所属企業               株式会社キカガク\n",
       "2  生年月日             1994年7月15日\n",
       "3    出身                    千葉県\n",
       "4    趣味  バスケットボール\\n読書\\nガジェット集め"
      ]
     },
     "execution_count": 21,
     "metadata": {},
     "output_type": "execute_result"
    }
   ],
   "source": [
    "#Output CSV\n",
    "import pandas as pd \n",
    "df = pd.DataFrame()\n",
    "\n",
    "df[\"項目\"] = keys\n",
    "df[\"値\"] = values\n",
    "\n",
    "df"
   ]
  },
  {
   "cell_type": "code",
   "execution_count": 22,
   "id": "472d7aed",
   "metadata": {},
   "outputs": [],
   "source": [
    "df.to_csv(\"講師情報.csv\")"
   ]
  },
  {
   "cell_type": "code",
   "execution_count": 23,
   "id": "036aed27",
   "metadata": {},
   "outputs": [
    {
     "data": {
      "text/plain": [
       "<Response [200]>"
      ]
     },
     "execution_count": 23,
     "metadata": {},
     "output_type": "execute_result"
    }
   ],
   "source": [
    "#Let's use Beautiful Soup\n",
    "#Analyze the structure of HTML\n",
    "\n",
    "import requests\n",
    "from bs4 import BeautifulSoup\n",
    "\n",
    "#url = \"https://scraping-for-beginner.herokuapp.com/Udemy\"\n",
    "#The page accessed in that video doesn't exist,so I access to Ikegayalab instead of that.\n",
    "#I'm not a member of that labolatory.\n",
    "url = \"http://www.yakusaku.jp/\"\n",
    "res = requests.get(url)\n",
    "res\n",
    "#<Response [200]> is OK."
   ]
  },
  {
   "cell_type": "code",
   "execution_count": 24,
   "id": "fe58a573",
   "metadata": {},
   "outputs": [
    {
     "data": {
      "text/plain": [
       "<!DOCTYPE html>\n",
       "\n",
       "<html lang=\"ja\">\n",
       "<head>\n",
       "<meta charset=\"utf-8\"/>\n",
       "<title>東京大学 大学院薬学系研究科 薬品作用学教室</title>\n",
       "<meta content=\"東京大学 大学院薬学系研究科 薬品作用学教室のホームページです。薬品作用学教室では、可塑性に主眼を置くことで、薬科学の観点から、人々が健やかに生活できる社会づくりを目指しています。薬品作用学教室の研究ポリシー、最新の情報をお知らせいたします。\" name=\"description\"/>\n",
       "<meta content=\"width=device-width,initial-scale=1\" name=\"viewport\"/>\n",
       "<meta content=\"JustSystems Homepage Builder Version 21.0.1.0 for Windows\" name=\"GENERATOR\"/>\n",
       "<link href=\"css/style.css\" rel=\"stylesheet\"/>\n",
       "<link href=\"https://fonts.googleapis.com/css?family=Noto+Sans+JP:300\" rel=\"stylesheet\"/>\n",
       "<script src=\"https://ajax.googleapis.com/ajax/libs/jquery/2.2.4/jquery.min.js\"></script>\n",
       "</head>\n",
       "<body id=\"home\">\n",
       "<!--ヘッダー-->\n",
       "<div class=\"header_container\">\n",
       "<header>\n",
       "<h1><a href=\"index.html\">東京大学 大学院薬学系研究科 薬品作用学教室</a></h1>\n",
       "<p>Laboratory of Chemical Pharmacology,Graduate School of Pharmaceutical Sciences,The University of Tokyo</p>\n",
       "<!--SP btn-->\n",
       "<div class=\"btn\">\n",
       "<span></span>\n",
       "</div>\n",
       "<!--TOPへもどる-->\n",
       "<div id=\"page-top\">\n",
       "<img alt=\"矢印のアイコン\" src=\"img/icon_totop.png\"/>\n",
       "TOPへ\n",
       "</div>\n",
       "<!--PCnav-->\n",
       "<nav class=\"PCnav\">\n",
       "<ul>\n",
       "<li><a class=\"current\" href=\"index.html\">トップ</a></li>\n",
       "<li><a href=\"research.html\">研究</a></li>\n",
       "<li><a href=\"publication.html\">論文等</a></li>\n",
       "<li><a href=\"news.html\">ニュース</a></li>\n",
       "<li><a href=\"member.html\">メンバー</a></li>\n",
       "<li><a href=\"access.html\">アクセス</a></li>\n",
       "<li><a href=\"english.html\">English</a></li>\n",
       "</ul>\n",
       "</nav>\n",
       "<!--スマホ用-->\n",
       "<nav class=\"SPnav\">\n",
       "<ul>\n",
       "<li><a class=\"current\" href=\"index.html\">トップ</a></li>\n",
       "<li><a href=\"research.html\">研究</a></li>\n",
       "<li><a href=\"publication.html\">論文等</a></li>\n",
       "<li><a href=\"news.html\">ニュース</a></li>\n",
       "<li><a href=\"member.html\">メンバー</a></li>\n",
       "<li><a href=\"access.html\">アクセス</a></li>\n",
       "<li><a href=\"english.html\">English</a></li>\n",
       "</ul>\n",
       "</nav>\n",
       "</header>\n",
       "</div><!--/.header_container-->\n",
       "<!--キービジュアル-->\n",
       "<div class=\"box welcome\">\n",
       "<img alt=\"夢を叶えるために脳はある\" src=\"img/top_key.png\"/>\n",
       "<div class=\"welcome_wrap\">\n",
       "<p>脳の特徴は自発的変化にあります。脳は自ら活動し、その活動に基いて自らを「変化」させます。</p>\n",
       "<p>子供から大人への脳の成長・発達、各人に固有な思考パターンや哲学観の変化、うつ病や認知症などの病気。これらは脳に生じた何らかの「変化」です。記憶も同じことです。覚える という行為は「知らない状態」から「知っている状態」への脳の変化です。 つまり、成長、脳高次機能、脳疾患は、すべて脳の「変化」という軸で捉えることができます。その変化の方向（もしくは、あえて変化せずに停留すること）が、たまたま外部から好都合にみえる場合は「学習」「適応」と賞賛され、不都合にみえる場合は「病気」「不適応」として矯正の対象となります。</p>\n",
       "<p>脳が変化すること、そしてその変化が脳に保たれることを「可塑性」とよびます。<span class=\"bold\">私たち薬品作用学教室では、可塑性に主眼を置くことで、薬科学の観点から、人々が健やかに生活できる社会づくりを夢見ています</span>。</p>\n",
       "</div><!--/.welcome_wrap-->\n",
       "</div><!--/.box-->\n",
       "<div class=\"container\">\n",
       "<div class=\"box\">\n",
       "<h2>薬品作用学教室の研究スタンス</h2>\n",
       "<p>脳のために脳を使って脳を知る</p>\n",
       "<div class=\"about_wrap\">\n",
       "<h3>ミッション<br/>(Mission)</h3>\n",
       "<p class=\"about_pad\">脳の発生機構と動作原理を通じて、i）健康と疾患、ii）成長と老化、の仕組みとその意味を探究し、研究成果を幅広く社会還元します。</p>\n",
       "</div><!--/.about_wrap-->\n",
       "<div class=\"about_wrap\">\n",
       "<h3>ビジョン<br/>(Vision)</h3>\n",
       "<p>１. 脳回路が、i）どう編まれ、ii）どう機能し、iii）いつなぜどのように破綻するのか、を解明します。 </p>\n",
       "<p>２. 脳の疾患を、i）治療する方法、ii）予防する方法、iii）予測・診断する方法、を模索します。 </p>\n",
       "<p>３. 脳が秘める潜在力を探索します。</p>\n",
       "<p>４. 上記１～３を通じて、創薬科学に貢献します。 </p>\n",
       "</div><!--/.about_wrap-->\n",
       "<div class=\"about_wrap\">\n",
       "<h3>バリュー<br/>(Value)</h3>\n",
       "<p class=\"about_pad\">人々の健康を促進し、人々の知的好奇心を刺激することで、健全な社会の維持に資する研究を行います。</p>\n",
       "</div><!--/.box-->\n",
       "</div><!--/.about_wrap-->\n",
       "<div class=\"box\">\n",
       "<h2>最近のニュース</h2>\n",
       "<ul>\n",
       "<li>柳下晴也さんが日本薬学会年会で優秀発表賞を受賞（2022.4.21） \n",
       "<li>中嶋藍助教が文部科学大臣表彰若手科学者賞を受賞（2022.4.8） \n",
       "<li>野口朝子さんが海馬神経細胞の発火タイミングの制御機構を解明（2022.3.11）\n",
       "<li>鹿島哲彦さんが日本薬理学会年会で学生優秀発表賞を受賞（2022.3.8）\n",
       "<li>松本信圭助教がコニカミノルタ画像科学奨励賞を受賞（2022.1.31）\n",
       "<li>柳下晴也さんが日本薬理学会関東部会で優秀発表賞を受賞（2021.10.9）\n",
       "<li>荒木匡さん、劉佳妍さん、中嶋美紀さんが創薬・医療薬理シンポジウムで発表賞を受賞（2021.8.28）\n",
       "<li>吉本愛梨さんが日本神経科学大会でジュニア研究者ポスター賞を受賞（2021.8.25）\n",
       "<li>佐々木拓哉特任准教授が東北大学大学院薬学研究科に栄転（2021.7.1）\n",
       "<li>松本信圭助教が韓日薬理学合同セミナーで優秀発表賞を受賞（2021.7.1）\n",
       "<li>鹿山将さん、大柿安里さん、山城皓太郎さんが日本薬学会第141年会で学生優秀発表賞を受賞（2021.4.21）\n",
       "<li>松本信圭特任助教が日本薬学会薬理系薬学部会奨励賞を受賞（2021.4.2）\n",
       "<li></li>\n",
       "</li></li></li></li></li></li></li></li></li></li></li></li></ul>\n",
       "</div>\n",
       "<!--/.box--><!--/.box-->\n",
       "<div class=\"box link\">\n",
       "<h2>外部リンク</h2>\n",
       "<ul>\n",
       "<li><a href=\"https://www.u-tokyo.ac.jp/ja/index.html\" target=\"_blank\">東京大学</a></li>\n",
       "<li><a href=\"http://www.f.u-tokyo.ac.jp/\" target=\"_blank\">東京大学大学院薬学系研究科</a></li>\n",
       "<li><a href=\"http://www.ikegaya.jp/ERATO/index.html\" target=\"_blank\">ERATO池谷脳AI融合プロジェクト</a></li> <li><a href=\"http://www.gaya.jp/ikegaya.htm\" target=\"_blank\">池谷裕二のホームページ</a></li>\n",
       "<li><a href=\"http://yakusaku.lolipop.jp/info/\">メンバー向け情報</a></li>\n",
       "</ul>\n",
       "</div><!--/.box--><!--/.container-->\n",
       "<footer>\n",
       "<p>Copyright © Ikegaya, all rights reserved.</p></footer>\n",
       "<script>\n",
       "$(function(){\n",
       "\n",
       "//スマホメニュー\n",
       "$('.btn').on('touchstart',function(){\n",
       "$('.SPnav').slideToggle();\n",
       "});\n",
       "var topBtn=$('#page-top');\n",
       "topBtn.hide();\n",
       "//300pxスクロールしたら表示\n",
       "$(window).on('scroll',function(){\n",
       " if($(this).scrollTop()>300){\n",
       "  topBtn.fadeIn();\n",
       " }else{\n",
       "  topBtn.fadeOut();\n",
       " }\n",
       "});\n",
       "topBtn.on('click touchstart',function(){\n",
       " $('html,body').animate({scrollTop:0});\n",
       "});\n",
       "\n",
       "});\n",
       "</script>\n",
       "</div>\n",
       "</body>\n",
       "</html>"
      ]
     },
     "execution_count": 24,
     "metadata": {},
     "output_type": "execute_result"
    }
   ],
   "source": [
    "#Parser analyzes the structure of HTML\n",
    "soup = BeautifulSoup(res.content,\"html.parser\")\n",
    "soup"
   ]
  },
  {
   "cell_type": "code",
   "execution_count": 25,
   "id": "6580279c",
   "metadata": {},
   "outputs": [
    {
     "name": "stdout",
     "output_type": "stream",
     "text": [
      "<!DOCTYPE html>\n",
      "<html lang=\"ja\">\n",
      " <head>\n",
      "  <meta charset=\"utf-8\"/>\n",
      "  <title>\n",
      "   東京大学 大学院薬学系研究科 薬品作用学教室\n",
      "  </title>\n",
      "  <meta content=\"東京大学 大学院薬学系研究科 薬品作用学教室のホームページです。薬品作用学教室では、可塑性に主眼を置くことで、薬科学の観点から、人々が健やかに生活できる社会づくりを目指しています。薬品作用学教室の研究ポリシー、最新の情報をお知らせいたします。\" name=\"description\"/>\n",
      "  <meta content=\"width=device-width,initial-scale=1\" name=\"viewport\"/>\n",
      "  <meta content=\"JustSystems Homepage Builder Version 21.0.1.0 for Windows\" name=\"GENERATOR\"/>\n",
      "  <link href=\"css/style.css\" rel=\"stylesheet\"/>\n",
      "  <link href=\"https://fonts.googleapis.com/css?family=Noto+Sans+JP:300\" rel=\"stylesheet\"/>\n",
      "  <script src=\"https://ajax.googleapis.com/ajax/libs/jquery/2.2.4/jquery.min.js\">\n",
      "  </script>\n",
      " </head>\n",
      " <body id=\"home\">\n",
      "  <!--ヘッダー-->\n",
      "  <div class=\"header_container\">\n",
      "   <header>\n",
      "    <h1>\n",
      "     <a href=\"index.html\">\n",
      "      東京大学 大学院薬学系研究科 薬品作用学教室\n",
      "     </a>\n",
      "    </h1>\n",
      "    <p>\n",
      "     Laboratory of Chemical Pharmacology,Graduate School of Pharmaceutical Sciences,The University of Tokyo\n",
      "    </p>\n",
      "    <!--SP btn-->\n",
      "    <div class=\"btn\">\n",
      "     <span>\n",
      "     </span>\n",
      "    </div>\n",
      "    <!--TOPへもどる-->\n",
      "    <div id=\"page-top\">\n",
      "     <img alt=\"矢印のアイコン\" src=\"img/icon_totop.png\"/>\n",
      "     TOPへ\n",
      "    </div>\n",
      "    <!--PCnav-->\n",
      "    <nav class=\"PCnav\">\n",
      "     <ul>\n",
      "      <li>\n",
      "       <a class=\"current\" href=\"index.html\">\n",
      "        トップ\n",
      "       </a>\n",
      "      </li>\n",
      "      <li>\n",
      "       <a href=\"research.html\">\n",
      "        研究\n",
      "       </a>\n",
      "      </li>\n",
      "      <li>\n",
      "       <a href=\"publication.html\">\n",
      "        論文等\n",
      "       </a>\n",
      "      </li>\n",
      "      <li>\n",
      "       <a href=\"news.html\">\n",
      "        ニュース\n",
      "       </a>\n",
      "      </li>\n",
      "      <li>\n",
      "       <a href=\"member.html\">\n",
      "        メンバー\n",
      "       </a>\n",
      "      </li>\n",
      "      <li>\n",
      "       <a href=\"access.html\">\n",
      "        アクセス\n",
      "       </a>\n",
      "      </li>\n",
      "      <li>\n",
      "       <a href=\"english.html\">\n",
      "        English\n",
      "       </a>\n",
      "      </li>\n",
      "     </ul>\n",
      "    </nav>\n",
      "    <!--スマホ用-->\n",
      "    <nav class=\"SPnav\">\n",
      "     <ul>\n",
      "      <li>\n",
      "       <a class=\"current\" href=\"index.html\">\n",
      "        トップ\n",
      "       </a>\n",
      "      </li>\n",
      "      <li>\n",
      "       <a href=\"research.html\">\n",
      "        研究\n",
      "       </a>\n",
      "      </li>\n",
      "      <li>\n",
      "       <a href=\"publication.html\">\n",
      "        論文等\n",
      "       </a>\n",
      "      </li>\n",
      "      <li>\n",
      "       <a href=\"news.html\">\n",
      "        ニュース\n",
      "       </a>\n",
      "      </li>\n",
      "      <li>\n",
      "       <a href=\"member.html\">\n",
      "        メンバー\n",
      "       </a>\n",
      "      </li>\n",
      "      <li>\n",
      "       <a href=\"access.html\">\n",
      "        アクセス\n",
      "       </a>\n",
      "      </li>\n",
      "      <li>\n",
      "       <a href=\"english.html\">\n",
      "        English\n",
      "       </a>\n",
      "      </li>\n",
      "     </ul>\n",
      "    </nav>\n",
      "   </header>\n",
      "  </div>\n",
      "  <!--/.header_container-->\n",
      "  <!--キービジュアル-->\n",
      "  <div class=\"box welcome\">\n",
      "   <img alt=\"夢を叶えるために脳はある\" src=\"img/top_key.png\"/>\n",
      "   <div class=\"welcome_wrap\">\n",
      "    <p>\n",
      "     脳の特徴は自発的変化にあります。脳は自ら活動し、その活動に基いて自らを「変化」させます。\n",
      "    </p>\n",
      "    <p>\n",
      "     子供から大人への脳の成長・発達、各人に固有な思考パターンや哲学観の変化、うつ病や認知症などの病気。これらは脳に生じた何らかの「変化」です。記憶も同じことです。覚える という行為は「知らない状態」から「知っている状態」への脳の変化です。 つまり、成長、脳高次機能、脳疾患は、すべて脳の「変化」という軸で捉えることができます。その変化の方向（もしくは、あえて変化せずに停留すること）が、たまたま外部から好都合にみえる場合は「学習」「適応」と賞賛され、不都合にみえる場合は「病気」「不適応」として矯正の対象となります。\n",
      "    </p>\n",
      "    <p>\n",
      "     脳が変化すること、そしてその変化が脳に保たれることを「可塑性」とよびます。\n",
      "     <span class=\"bold\">\n",
      "      私たち薬品作用学教室では、可塑性に主眼を置くことで、薬科学の観点から、人々が健やかに生活できる社会づくりを夢見ています\n",
      "     </span>\n",
      "     。\n",
      "    </p>\n",
      "   </div>\n",
      "   <!--/.welcome_wrap-->\n",
      "  </div>\n",
      "  <!--/.box-->\n",
      "  <div class=\"container\">\n",
      "   <div class=\"box\">\n",
      "    <h2>\n",
      "     薬品作用学教室の研究スタンス\n",
      "    </h2>\n",
      "    <p>\n",
      "     脳のために脳を使って脳を知る\n",
      "    </p>\n",
      "    <div class=\"about_wrap\">\n",
      "     <h3>\n",
      "      ミッション\n",
      "      <br/>\n",
      "      (Mission)\n",
      "     </h3>\n",
      "     <p class=\"about_pad\">\n",
      "      脳の発生機構と動作原理を通じて、i）健康と疾患、ii）成長と老化、の仕組みとその意味を探究し、研究成果を幅広く社会還元します。\n",
      "     </p>\n",
      "    </div>\n",
      "    <!--/.about_wrap-->\n",
      "    <div class=\"about_wrap\">\n",
      "     <h3>\n",
      "      ビジョン\n",
      "      <br/>\n",
      "      (Vision)\n",
      "     </h3>\n",
      "     <p>\n",
      "      １. 脳回路が、i）どう編まれ、ii）どう機能し、iii）いつなぜどのように破綻するのか、を解明します。\n",
      "     </p>\n",
      "     <p>\n",
      "      ２. 脳の疾患を、i）治療する方法、ii）予防する方法、iii）予測・診断する方法、を模索します。\n",
      "     </p>\n",
      "     <p>\n",
      "      ３. 脳が秘める潜在力を探索します。\n",
      "     </p>\n",
      "     <p>\n",
      "      ４. 上記１～３を通じて、創薬科学に貢献します。\n",
      "     </p>\n",
      "    </div>\n",
      "    <!--/.about_wrap-->\n",
      "    <div class=\"about_wrap\">\n",
      "     <h3>\n",
      "      バリュー\n",
      "      <br/>\n",
      "      (Value)\n",
      "     </h3>\n",
      "     <p class=\"about_pad\">\n",
      "      人々の健康を促進し、人々の知的好奇心を刺激することで、健全な社会の維持に資する研究を行います。\n",
      "     </p>\n",
      "    </div>\n",
      "    <!--/.box-->\n",
      "   </div>\n",
      "   <!--/.about_wrap-->\n",
      "   <div class=\"box\">\n",
      "    <h2>\n",
      "     最近のニュース\n",
      "    </h2>\n",
      "    <ul>\n",
      "     <li>\n",
      "      柳下晴也さんが日本薬学会年会で優秀発表賞を受賞（2022.4.21）\n",
      "      <li>\n",
      "       中嶋藍助教が文部科学大臣表彰若手科学者賞を受賞（2022.4.8）\n",
      "       <li>\n",
      "        野口朝子さんが海馬神経細胞の発火タイミングの制御機構を解明（2022.3.11）\n",
      "        <li>\n",
      "         鹿島哲彦さんが日本薬理学会年会で学生優秀発表賞を受賞（2022.3.8）\n",
      "         <li>\n",
      "          松本信圭助教がコニカミノルタ画像科学奨励賞を受賞（2022.1.31）\n",
      "          <li>\n",
      "           柳下晴也さんが日本薬理学会関東部会で優秀発表賞を受賞（2021.10.9）\n",
      "           <li>\n",
      "            荒木匡さん、劉佳妍さん、中嶋美紀さんが創薬・医療薬理シンポジウムで発表賞を受賞（2021.8.28）\n",
      "            <li>\n",
      "             吉本愛梨さんが日本神経科学大会でジュニア研究者ポスター賞を受賞（2021.8.25）\n",
      "             <li>\n",
      "              佐々木拓哉特任准教授が東北大学大学院薬学研究科に栄転（2021.7.1）\n",
      "              <li>\n",
      "               松本信圭助教が韓日薬理学合同セミナーで優秀発表賞を受賞（2021.7.1）\n",
      "               <li>\n",
      "                鹿山将さん、大柿安里さん、山城皓太郎さんが日本薬学会第141年会で学生優秀発表賞を受賞（2021.4.21）\n",
      "                <li>\n",
      "                 松本信圭特任助教が日本薬学会薬理系薬学部会奨励賞を受賞（2021.4.2）\n",
      "                 <li>\n",
      "                 </li>\n",
      "                </li>\n",
      "               </li>\n",
      "              </li>\n",
      "             </li>\n",
      "            </li>\n",
      "           </li>\n",
      "          </li>\n",
      "         </li>\n",
      "        </li>\n",
      "       </li>\n",
      "      </li>\n",
      "     </li>\n",
      "    </ul>\n",
      "   </div>\n",
      "   <!--/.box-->\n",
      "   <!--/.box-->\n",
      "   <div class=\"box link\">\n",
      "    <h2>\n",
      "     外部リンク\n",
      "    </h2>\n",
      "    <ul>\n",
      "     <li>\n",
      "      <a href=\"https://www.u-tokyo.ac.jp/ja/index.html\" target=\"_blank\">\n",
      "       東京大学\n",
      "      </a>\n",
      "     </li>\n",
      "     <li>\n",
      "      <a href=\"http://www.f.u-tokyo.ac.jp/\" target=\"_blank\">\n",
      "       東京大学大学院薬学系研究科\n",
      "      </a>\n",
      "     </li>\n",
      "     <li>\n",
      "      <a href=\"http://www.ikegaya.jp/ERATO/index.html\" target=\"_blank\">\n",
      "       ERATO池谷脳AI融合プロジェクト\n",
      "      </a>\n",
      "     </li>\n",
      "     <li>\n",
      "      <a href=\"http://www.gaya.jp/ikegaya.htm\" target=\"_blank\">\n",
      "       池谷裕二のホームページ\n",
      "      </a>\n",
      "     </li>\n",
      "     <li>\n",
      "      <a href=\"http://yakusaku.lolipop.jp/info/\">\n",
      "       メンバー向け情報\n",
      "      </a>\n",
      "     </li>\n",
      "    </ul>\n",
      "   </div>\n",
      "   <!--/.box-->\n",
      "   <!--/.container-->\n",
      "   <footer>\n",
      "    <p>\n",
      "     Copyright © Ikegaya, all rights reserved.\n",
      "    </p>\n",
      "   </footer>\n",
      "   <script>\n",
      "    $(function(){\n",
      "\n",
      "//スマホメニュー\n",
      "$('.btn').on('touchstart',function(){\n",
      "$('.SPnav').slideToggle();\n",
      "});\n",
      "var topBtn=$('#page-top');\n",
      "topBtn.hide();\n",
      "//300pxスクロールしたら表示\n",
      "$(window).on('scroll',function(){\n",
      " if($(this).scrollTop()>300){\n",
      "  topBtn.fadeIn();\n",
      " }else{\n",
      "  topBtn.fadeOut();\n",
      " }\n",
      "});\n",
      "topBtn.on('click touchstart',function(){\n",
      " $('html,body').animate({scrollTop:0});\n",
      "});\n",
      "\n",
      "});\n",
      "   </script>\n",
      "  </div>\n",
      " </body>\n",
      "</html>\n"
     ]
    }
   ],
   "source": [
    "#more readable by indent\n",
    "print(soup.prettify())"
   ]
  },
  {
   "cell_type": "code",
   "execution_count": 26,
   "id": "31a4dc15",
   "metadata": {},
   "outputs": [
    {
     "data": {
      "text/plain": [
       "[<p>Laboratory of Chemical Pharmacology,Graduate School of Pharmaceutical Sciences,The University of Tokyo</p>,\n",
       " <p>脳の特徴は自発的変化にあります。脳は自ら活動し、その活動に基いて自らを「変化」させます。</p>,\n",
       " <p>子供から大人への脳の成長・発達、各人に固有な思考パターンや哲学観の変化、うつ病や認知症などの病気。これらは脳に生じた何らかの「変化」です。記憶も同じことです。覚える という行為は「知らない状態」から「知っている状態」への脳の変化です。 つまり、成長、脳高次機能、脳疾患は、すべて脳の「変化」という軸で捉えることができます。その変化の方向（もしくは、あえて変化せずに停留すること）が、たまたま外部から好都合にみえる場合は「学習」「適応」と賞賛され、不都合にみえる場合は「病気」「不適応」として矯正の対象となります。</p>,\n",
       " <p>脳が変化すること、そしてその変化が脳に保たれることを「可塑性」とよびます。<span class=\"bold\">私たち薬品作用学教室では、可塑性に主眼を置くことで、薬科学の観点から、人々が健やかに生活できる社会づくりを夢見ています</span>。</p>,\n",
       " <p>脳のために脳を使って脳を知る</p>,\n",
       " <p class=\"about_pad\">脳の発生機構と動作原理を通じて、i）健康と疾患、ii）成長と老化、の仕組みとその意味を探究し、研究成果を幅広く社会還元します。</p>,\n",
       " <p>１. 脳回路が、i）どう編まれ、ii）どう機能し、iii）いつなぜどのように破綻するのか、を解明します。 </p>,\n",
       " <p>２. 脳の疾患を、i）治療する方法、ii）予防する方法、iii）予測・診断する方法、を模索します。 </p>,\n",
       " <p>３. 脳が秘める潜在力を探索します。</p>,\n",
       " <p>４. 上記１～３を通じて、創薬科学に貢献します。 </p>,\n",
       " <p class=\"about_pad\">人々の健康を促進し、人々の知的好奇心を刺激することで、健全な社会の維持に資する研究を行います。</p>,\n",
       " <p>Copyright © Ikegaya, all rights reserved.</p>]"
      ]
     },
     "execution_count": 26,
     "metadata": {},
     "output_type": "execute_result"
    }
   ],
   "source": [
    "#Get multiple \"p\"tags\n",
    "soup.find_all(\"p\")"
   ]
  },
  {
   "cell_type": "code",
   "execution_count": 27,
   "id": "424af239",
   "metadata": {},
   "outputs": [
    {
     "data": {
      "text/plain": [
       "[<p>Laboratory of Chemical Pharmacology,Graduate School of Pharmaceutical Sciences,The University of Tokyo</p>,\n",
       " <p>脳の特徴は自発的変化にあります。脳は自ら活動し、その活動に基いて自らを「変化」させます。</p>,\n",
       " <p>子供から大人への脳の成長・発達、各人に固有な思考パターンや哲学観の変化、うつ病や認知症などの病気。これらは脳に生じた何らかの「変化」です。記憶も同じことです。覚える という行為は「知らない状態」から「知っている状態」への脳の変化です。 つまり、成長、脳高次機能、脳疾患は、すべて脳の「変化」という軸で捉えることができます。その変化の方向（もしくは、あえて変化せずに停留すること）が、たまたま外部から好都合にみえる場合は「学習」「適応」と賞賛され、不都合にみえる場合は「病気」「不適応」として矯正の対象となります。</p>,\n",
       " <p>脳が変化すること、そしてその変化が脳に保たれることを「可塑性」とよびます。<span class=\"bold\">私たち薬品作用学教室では、可塑性に主眼を置くことで、薬科学の観点から、人々が健やかに生活できる社会づくりを夢見ています</span>。</p>,\n",
       " <p>脳のために脳を使って脳を知る</p>,\n",
       " <p class=\"about_pad\">脳の発生機構と動作原理を通じて、i）健康と疾患、ii）成長と老化、の仕組みとその意味を探究し、研究成果を幅広く社会還元します。</p>,\n",
       " <p>１. 脳回路が、i）どう編まれ、ii）どう機能し、iii）いつなぜどのように破綻するのか、を解明します。 </p>,\n",
       " <p>２. 脳の疾患を、i）治療する方法、ii）予防する方法、iii）予測・診断する方法、を模索します。 </p>,\n",
       " <p>３. 脳が秘める潜在力を探索します。</p>,\n",
       " <p>４. 上記１～３を通じて、創薬科学に貢献します。 </p>,\n",
       " <p class=\"about_pad\">人々の健康を促進し、人々の知的好奇心を刺激することで、健全な社会の維持に資する研究を行います。</p>,\n",
       " <p>Copyright © Ikegaya, all rights reserved.</p>]"
      ]
     },
     "execution_count": 27,
     "metadata": {},
     "output_type": "execute_result"
    }
   ],
   "source": [
    "#Get a specified text by class\n",
    "soup.find_all(\"p\")"
   ]
  },
  {
   "cell_type": "code",
   "execution_count": 28,
   "id": "b973bd27",
   "metadata": {},
   "outputs": [
    {
     "data": {
      "text/plain": [
       "'Laboratory of Chemical Pharmacology,Graduate School of Pharmaceutical Sciences,The University of Tokyo'"
      ]
     },
     "execution_count": 28,
     "metadata": {},
     "output_type": "execute_result"
    }
   ],
   "source": [
    "#Get a text of the first \"p\"tag\n",
    "soup.find(\"p\").text\n",
    "#equal \"soup.p.text\""
   ]
  },
  {
   "cell_type": "code",
   "execution_count": 29,
   "id": "0099600d",
   "metadata": {},
   "outputs": [
    {
     "data": {
      "text/plain": [
       "[<p class=\"about_pad\">脳の発生機構と動作原理を通じて、i）健康と疾患、ii）成長と老化、の仕組みとその意味を探究し、研究成果を幅広く社会還元します。</p>,\n",
       " <p class=\"about_pad\">人々の健康を促進し、人々の知的好奇心を刺激することで、健全な社会の維持に資する研究を行います。</p>]"
      ]
     },
     "execution_count": 29,
     "metadata": {},
     "output_type": "execute_result"
    }
   ],
   "source": [
    "soup.find_all(\"p\",attrs={\"class\":\"about_pad\"})"
   ]
  },
  {
   "cell_type": "code",
   "execution_count": 30,
   "id": "fcd8da95",
   "metadata": {},
   "outputs": [
    {
     "data": {
      "text/plain": [
       "[<span class=\"bold\">私たち薬品作用学教室では、可塑性に主眼を置くことで、薬科学の観点から、人々が健やかに生活できる社会づくりを夢見ています</span>]"
      ]
     },
     "execution_count": 30,
     "metadata": {},
     "output_type": "execute_result"
    }
   ],
   "source": [
    "soup.find_all(\"span\",attrs={\"class\":\"bold\"})"
   ]
  },
  {
   "cell_type": "code",
   "execution_count": 31,
   "id": "afd01a2d",
   "metadata": {},
   "outputs": [
    {
     "data": {
      "text/plain": [
       "'脳の発生機構と動作原理を通じて、i）健康と疾患、ii）成長と老化、の仕組みとその意味を探究し、研究成果を幅広く社会還元します。'"
      ]
     },
     "execution_count": 31,
     "metadata": {},
     "output_type": "execute_result"
    }
   ],
   "source": [
    "#Another means of getting text(Use CSS selector)\n",
    "#https://webliker.info/css-selector-cheat-sheet/\n",
    "soup.select_one(\".about_pad\").text"
   ]
  },
  {
   "cell_type": "markdown",
   "id": "165818e0",
   "metadata": {},
   "source": [
    "<h1>Tutorilal4</h1>"
   ]
  },
  {
   "cell_type": "code",
   "execution_count": 32,
   "id": "052a273b",
   "metadata": {},
   "outputs": [
    {
     "data": {
      "text/plain": [
       "<Response [200]>"
      ]
     },
     "execution_count": 32,
     "metadata": {},
     "output_type": "execute_result"
    }
   ],
   "source": [
    "#Go back the site of tutorilal.\n",
    "import requests\n",
    "from bs4 import BeautifulSoup\n",
    "\n",
    "url = \"https://scraping-for-beginner.herokuapp.com/ranking/\"\n",
    "res = requests.get(url)\n",
    "\n",
    "res"
   ]
  },
  {
   "cell_type": "code",
   "execution_count": 33,
   "id": "016a8b18",
   "metadata": {},
   "outputs": [],
   "source": [
    "soup = BeautifulSoup(res.text,\"html.parser\")\n",
    "#soup"
   ]
  },
  {
   "cell_type": "code",
   "execution_count": 34,
   "id": "6dd4391b",
   "metadata": {},
   "outputs": [
    {
     "data": {
      "text/plain": [
       "<div class=\"u_title col s12\">\n",
       "<p><h2><span class=\"badge\">1</span>観光地 1</h2></p>\n",
       "</div>"
      ]
     },
     "execution_count": 34,
     "metadata": {},
     "output_type": "execute_result"
    }
   ],
   "source": [
    "#First of all,Get a name of first tourist area\n",
    "#\"u_areaListRankingBox\"class contains informations of one area\n",
    "\n",
    "spots = soup.find_all(\"div\",attrs={\"class\":\"u_areaListRankingBox\"})\n",
    "spot = spots[0]\n",
    "#spot.find_all(\"div\",attrs={\"class\":\"u_title\"})\n",
    "#Confirm the class has only one text\n",
    "spot_name = spot.find(\"div\",attrs={\"class\":\"u_title\"})\n",
    "spot_name"
   ]
  },
  {
   "cell_type": "code",
   "execution_count": 35,
   "id": "98b7666e",
   "metadata": {},
   "outputs": [
    {
     "data": {
      "text/plain": [
       "'\\n1観光地 1\\n'"
      ]
     },
     "execution_count": 35,
     "metadata": {},
     "output_type": "execute_result"
    }
   ],
   "source": [
    "spot_name.text"
   ]
  },
  {
   "cell_type": "code",
   "execution_count": 36,
   "id": "555560e5",
   "metadata": {},
   "outputs": [
    {
     "data": {
      "text/plain": [
       "<span class=\"badge\">1</span>"
      ]
     },
     "execution_count": 36,
     "metadata": {},
     "output_type": "execute_result"
    }
   ],
   "source": [
    "#remove unnecessary information\n",
    "spot_name.find(\"span\",attrs={\"class\":\"badge\"}).extract()"
   ]
  },
  {
   "cell_type": "code",
   "execution_count": 37,
   "id": "1460ffae",
   "metadata": {},
   "outputs": [
    {
     "data": {
      "text/plain": [
       "<div class=\"u_title col s12\">\n",
       "<p><h2>観光地 1</h2></p>\n",
       "</div>"
      ]
     },
     "execution_count": 37,
     "metadata": {},
     "output_type": "execute_result"
    }
   ],
   "source": [
    "spot_name"
   ]
  },
  {
   "cell_type": "code",
   "execution_count": 60,
   "id": "1b756779",
   "metadata": {},
   "outputs": [
    {
     "data": {
      "text/plain": [
       "'観光地 1'"
      ]
     },
     "execution_count": 60,
     "metadata": {},
     "output_type": "execute_result"
    }
   ],
   "source": [
    "spot_name = spot_name.text.replace(\"\\n\",\"\")\n",
    "spot_name"
   ]
  },
  {
   "cell_type": "code",
   "execution_count": 50,
   "id": "0190ac04",
   "metadata": {},
   "outputs": [],
   "source": [
    "#Get the Score\n",
    "eval_num = spot.find(\"div\",attrs={\"class\":\"u_rankBox\"}).text\n",
    "eval_num =eval_num.replace(\"\\n\" , \"\")"
   ]
  },
  {
   "cell_type": "code",
   "execution_count": 51,
   "id": "282d2875",
   "metadata": {},
   "outputs": [
    {
     "data": {
      "text/plain": [
       "<div class=\"u_areaListRankingBox row\">\n",
       "<div class=\"u_title col s12\">\n",
       "<p><h2>観光地 1</h2></p>\n",
       "</div>\n",
       "<!-- 観光地イメージ -->\n",
       "<div class=\"place_img col s12\">\n",
       "<img alt=\"\" src=\"/static/assets/img/img1.JPG\"/>\n",
       "</div>\n",
       "<!-- 総合評価 -->\n",
       "<div class=\"u_rankBox col s12\">\n",
       "<span style=\"--rate: 94.0%;\"></span><span class=\"evaluateNumber\">4.7</span><br/>\n",
       "</div>\n",
       "<!-- 各カテゴリ評価 -->\n",
       "<div class=\"u_categoryTipsItem col s12\">\n",
       "<dl>\n",
       "<dt>楽しさ</dt>\n",
       "<dd class=\"is_rank\"><span class=\"evaluateNumber\">4.6</span></dd>\n",
       "<dd class=\"comment\">非常に楽しい場所であった</dd>\n",
       "</dl>\n",
       "<dl>\n",
       "<dt>人混みの多さ</dt>\n",
       "<dd class=\"is_rank\"><span class=\"evaluateNumber\">4.5</span></dd>\n",
       "<dd class=\"comment\">非常に空いていた</dd>\n",
       "</dl>\n",
       "<dl>\n",
       "<dt>景色</dt>\n",
       "<dd class=\"is_rank\"><span class=\"evaluateNumber\">4.9</span></dd>\n",
       "<dd class=\"comment\">海が非常に綺麗であった</dd>\n",
       "</dl>\n",
       "<dl>\n",
       "<dt>アクセス</dt>\n",
       "<dd class=\"is_rank\"><span class=\"evaluateNumber\">4.2</span></dd>\n",
       "<dd class=\"comment\">市内から車で2時間ほどであった</dd>\n",
       "</dl>\n",
       "</div>\n",
       "<div class=\"divider\">\n",
       "</div>\n",
       "</div>"
      ]
     },
     "execution_count": 51,
     "metadata": {},
     "output_type": "execute_result"
    }
   ],
   "source": [
    "spot"
   ]
  },
  {
   "cell_type": "code",
   "execution_count": 52,
   "id": "d5a49d45",
   "metadata": {},
   "outputs": [
    {
     "data": {
      "text/plain": [
       "<div class=\"u_categoryTipsItem col s12\">\n",
       "<dl>\n",
       "<dt>楽しさ</dt>\n",
       "<dd class=\"is_rank\"><span class=\"evaluateNumber\">4.6</span></dd>\n",
       "<dd class=\"comment\">非常に楽しい場所であった</dd>\n",
       "</dl>\n",
       "<dl>\n",
       "<dt>人混みの多さ</dt>\n",
       "<dd class=\"is_rank\"><span class=\"evaluateNumber\">4.5</span></dd>\n",
       "<dd class=\"comment\">非常に空いていた</dd>\n",
       "</dl>\n",
       "<dl>\n",
       "<dt>景色</dt>\n",
       "<dd class=\"is_rank\"><span class=\"evaluateNumber\">4.9</span></dd>\n",
       "<dd class=\"comment\">海が非常に綺麗であった</dd>\n",
       "</dl>\n",
       "<dl>\n",
       "<dt>アクセス</dt>\n",
       "<dd class=\"is_rank\"><span class=\"evaluateNumber\">4.2</span></dd>\n",
       "<dd class=\"comment\">市内から車で2時間ほどであった</dd>\n",
       "</dl>\n",
       "</div>"
      ]
     },
     "execution_count": 52,
     "metadata": {},
     "output_type": "execute_result"
    }
   ],
   "source": [
    "categoryItems = spot.find(\"div\",attrs = {\"class\",\"u_categoryTipsItem\"})\n",
    "categoryItems"
   ]
  },
  {
   "cell_type": "code",
   "execution_count": 53,
   "id": "0783e945",
   "metadata": {},
   "outputs": [
    {
     "data": {
      "text/plain": [
       "[<dl>\n",
       " <dt>楽しさ</dt>\n",
       " <dd class=\"is_rank\"><span class=\"evaluateNumber\">4.6</span></dd>\n",
       " <dd class=\"comment\">非常に楽しい場所であった</dd>\n",
       " </dl>,\n",
       " <dl>\n",
       " <dt>人混みの多さ</dt>\n",
       " <dd class=\"is_rank\"><span class=\"evaluateNumber\">4.5</span></dd>\n",
       " <dd class=\"comment\">非常に空いていた</dd>\n",
       " </dl>,\n",
       " <dl>\n",
       " <dt>景色</dt>\n",
       " <dd class=\"is_rank\"><span class=\"evaluateNumber\">4.9</span></dd>\n",
       " <dd class=\"comment\">海が非常に綺麗であった</dd>\n",
       " </dl>,\n",
       " <dl>\n",
       " <dt>アクセス</dt>\n",
       " <dd class=\"is_rank\"><span class=\"evaluateNumber\">4.2</span></dd>\n",
       " <dd class=\"comment\">市内から車で2時間ほどであった</dd>\n",
       " </dl>]"
      ]
     },
     "execution_count": 53,
     "metadata": {},
     "output_type": "execute_result"
    }
   ],
   "source": [
    "categoryItems = categoryItems.find_all(\"dl\")\n",
    "categoryItems"
   ]
  },
  {
   "cell_type": "code",
   "execution_count": 54,
   "id": "cebd79d9",
   "metadata": {},
   "outputs": [
    {
     "data": {
      "text/plain": [
       "<dl>\n",
       "<dt>楽しさ</dt>\n",
       "<dd class=\"is_rank\"><span class=\"evaluateNumber\">4.6</span></dd>\n",
       "<dd class=\"comment\">非常に楽しい場所であった</dd>\n",
       "</dl>"
      ]
     },
     "execution_count": 54,
     "metadata": {},
     "output_type": "execute_result"
    }
   ],
   "source": [
    "#Get only \"楽しさ\"\n",
    "categoryItem = categoryItems[0]\n",
    "categoryItem"
   ]
  },
  {
   "cell_type": "code",
   "execution_count": 55,
   "id": "665dfb7b",
   "metadata": {},
   "outputs": [
    {
     "data": {
      "text/plain": [
       "'楽しさ'"
      ]
     },
     "execution_count": 55,
     "metadata": {},
     "output_type": "execute_result"
    }
   ],
   "source": [
    "#It's useful\n",
    "category = categoryItem.dt.text\n",
    "category"
   ]
  },
  {
   "cell_type": "code",
   "execution_count": 56,
   "id": "7f649253",
   "metadata": {},
   "outputs": [
    {
     "data": {
      "text/plain": [
       "4.6"
      ]
     },
     "execution_count": 56,
     "metadata": {},
     "output_type": "execute_result"
    }
   ],
   "source": [
    "#Get the Score\n",
    "rank = float(categoryItem.span.text)\n",
    "rank"
   ]
  },
  {
   "cell_type": "code",
   "execution_count": 57,
   "id": "dfef4d91",
   "metadata": {},
   "outputs": [
    {
     "data": {
      "text/plain": [
       "{'楽しさ': 4.6}"
      ]
     },
     "execution_count": 57,
     "metadata": {},
     "output_type": "execute_result"
    }
   ],
   "source": [
    "#make the dictionary\n",
    "details = {}\n",
    "\n",
    "categoryItem = categoryItems[0]\n",
    "category = categoryItem.dt.text\n",
    "rank = float(categoryItem.span.text)\n",
    "details[category] = rank\n",
    "\n",
    "details"
   ]
  },
  {
   "cell_type": "code",
   "execution_count": 58,
   "id": "3f9cf25f",
   "metadata": {},
   "outputs": [
    {
     "data": {
      "text/plain": [
       "{'楽しさ': 4.6, '人混みの多さ': 4.5, '景色': 4.9, 'アクセス': 4.2}"
      ]
     },
     "execution_count": 58,
     "metadata": {},
     "output_type": "execute_result"
    }
   ],
   "source": [
    "#Write the repetetion code\n",
    "\n",
    "for categoryItem in categoryItems:\n",
    "    category = categoryItem.dt.text\n",
    "    rank = float(categoryItem.span.text)\n",
    "    details[category] = rank\n",
    "details"
   ]
  },
  {
   "cell_type": "code",
   "execution_count": 61,
   "id": "d9f5a11c",
   "metadata": {},
   "outputs": [
    {
     "data": {
      "text/plain": [
       "{'楽しさ': 4.6,\n",
       " '人混みの多さ': 4.5,\n",
       " '景色': 4.9,\n",
       " 'アクセス': 4.2,\n",
       " '観光地名': '観光地 1',\n",
       " '評価点': '4.7'}"
      ]
     },
     "execution_count": 61,
     "metadata": {},
     "output_type": "execute_result"
    }
   ],
   "source": [
    "datum = details \n",
    "datum[\"観光地名\"] = spot_name\n",
    "datum[\"評価点\"] = eval_num\n",
    "datum"
   ]
  },
  {
   "cell_type": "code",
   "execution_count": 66,
   "id": "e2883fe7",
   "metadata": {},
   "outputs": [],
   "source": [
    "#Get Informations of All site \n",
    "\n",
    "soup = BeautifulSoup(res.text,\"html.parser\")\n",
    "data = []\n",
    "\n",
    "spots = soup.find_all(\"div\",attrs={\"class\":\"u_areaListRankingBox\"})\n",
    "for spot in spots:\n",
    "    spot_name = spot.find(\"div\",attrs={\"class\":\"u_title\"})\n",
    "    spot_name.find(\"span\",attrs={\"class\":\"badge\"}).extract()\n",
    "    spot_name = spot_name.text.replace(\"\\n\",\"\")\n",
    "    eval_num = spot.find(\"div\",attrs={\"class\":\"u_rankBox\"}).text\n",
    "    eval_num =eval_num.replace(\"\\n\" , \"\")\n",
    "\n",
    "    categoryItems = spot.find(\"div\",attrs = {\"class\",\"u_categoryTipsItem\"})\n",
    "    categoryItems = categoryItems.find_all(\"dl\")\n",
    "\n",
    "\n",
    "    details = {}\n",
    "\n",
    "    categoryItem = categoryItems[0]\n",
    "    category = categoryItem.dt.text\n",
    "    rank = float(categoryItem.span.text)\n",
    "    details[category] = rank\n",
    "\n",
    "    for categoryItem in categoryItems:\n",
    "        category = categoryItem.dt.text\n",
    "        rank = float(categoryItem.span.text)\n",
    "        details[category] = rank\n",
    "\n",
    "    datum = details \n",
    "    datum[\"観光地名\"] = spot_name\n",
    "    datum[\"評価点\"] = eval_num\n",
    "    data.append(datum)"
   ]
  },
  {
   "cell_type": "code",
   "execution_count": 67,
   "id": "e0549df3",
   "metadata": {},
   "outputs": [
    {
     "data": {
      "text/plain": [
       "[{'楽しさ': 4.6,\n",
       "  '人混みの多さ': 4.5,\n",
       "  '景色': 4.9,\n",
       "  'アクセス': 4.2,\n",
       "  '観光地名': '観光地 1',\n",
       "  '評価点': '4.7'},\n",
       " {'楽しさ': 4.6,\n",
       "  '人混みの多さ': 4.5,\n",
       "  '景色': 4.9,\n",
       "  'アクセス': 4.2,\n",
       "  '観光地名': '観光地 2',\n",
       "  '評価点': '4.7'},\n",
       " {'楽しさ': 4.5,\n",
       "  '人混みの多さ': 4.4,\n",
       "  '景色': 4.8,\n",
       "  'アクセス': 4.1,\n",
       "  '観光地名': '観光地 3',\n",
       "  '評価点': '4.6'},\n",
       " {'楽しさ': 4.4,\n",
       "  '人混みの多さ': 4.4,\n",
       "  '景色': 4.8,\n",
       "  'アクセス': 4.0,\n",
       "  '観光地名': '観光地 4',\n",
       "  '評価点': '4.5'},\n",
       " {'楽しさ': 4.4,\n",
       "  '人混みの多さ': 4.3,\n",
       "  '景色': 4.7,\n",
       "  'アクセス': 4.0,\n",
       "  '観光地名': '観光地 5',\n",
       "  '評価点': '4.5'},\n",
       " {'楽しさ': 4.3,\n",
       "  '人混みの多さ': 4.3,\n",
       "  '景色': 4.7,\n",
       "  'アクセス': 3.9,\n",
       "  '観光地名': '観光地 6',\n",
       "  '評価点': '4.4'},\n",
       " {'楽しさ': 4.2,\n",
       "  '人混みの多さ': 4.2,\n",
       "  '景色': 4.6,\n",
       "  'アクセス': 3.8,\n",
       "  '観光地名': '観光地 7',\n",
       "  '評価点': '4.3'},\n",
       " {'楽しさ': 4.2,\n",
       "  '人混みの多さ': 4.2,\n",
       "  '景色': 4.6,\n",
       "  'アクセス': 3.8,\n",
       "  '観光地名': '観光地 8',\n",
       "  '評価点': '4.3'},\n",
       " {'楽しさ': 4.1,\n",
       "  '人混みの多さ': 4.1,\n",
       "  '景色': 4.5,\n",
       "  'アクセス': 3.7,\n",
       "  '観光地名': '観光地 9',\n",
       "  '評価点': '4.2'},\n",
       " {'楽しさ': 4.0,\n",
       "  '人混みの多さ': 4.1,\n",
       "  '景色': 4.4,\n",
       "  'アクセス': 3.6,\n",
       "  '観光地名': '観光地 10',\n",
       "  '評価点': '4.1'}]"
      ]
     },
     "execution_count": 67,
     "metadata": {},
     "output_type": "execute_result"
    }
   ],
   "source": [
    "data"
   ]
  },
  {
   "cell_type": "code",
   "execution_count": 68,
   "id": "00595ebd",
   "metadata": {},
   "outputs": [],
   "source": [
    "import pandas as pd\n",
    "df = pd.DataFrame(data)"
   ]
  },
  {
   "cell_type": "code",
   "execution_count": 69,
   "id": "6746e348",
   "metadata": {},
   "outputs": [
    {
     "data": {
      "text/html": [
       "<div>\n",
       "<style scoped>\n",
       "    .dataframe tbody tr th:only-of-type {\n",
       "        vertical-align: middle;\n",
       "    }\n",
       "\n",
       "    .dataframe tbody tr th {\n",
       "        vertical-align: top;\n",
       "    }\n",
       "\n",
       "    .dataframe thead th {\n",
       "        text-align: right;\n",
       "    }\n",
       "</style>\n",
       "<table border=\"1\" class=\"dataframe\">\n",
       "  <thead>\n",
       "    <tr style=\"text-align: right;\">\n",
       "      <th></th>\n",
       "      <th>楽しさ</th>\n",
       "      <th>人混みの多さ</th>\n",
       "      <th>景色</th>\n",
       "      <th>アクセス</th>\n",
       "      <th>観光地名</th>\n",
       "      <th>評価点</th>\n",
       "    </tr>\n",
       "  </thead>\n",
       "  <tbody>\n",
       "    <tr>\n",
       "      <th>0</th>\n",
       "      <td>4.6</td>\n",
       "      <td>4.5</td>\n",
       "      <td>4.9</td>\n",
       "      <td>4.2</td>\n",
       "      <td>観光地 1</td>\n",
       "      <td>4.7</td>\n",
       "    </tr>\n",
       "    <tr>\n",
       "      <th>1</th>\n",
       "      <td>4.6</td>\n",
       "      <td>4.5</td>\n",
       "      <td>4.9</td>\n",
       "      <td>4.2</td>\n",
       "      <td>観光地 2</td>\n",
       "      <td>4.7</td>\n",
       "    </tr>\n",
       "    <tr>\n",
       "      <th>2</th>\n",
       "      <td>4.5</td>\n",
       "      <td>4.4</td>\n",
       "      <td>4.8</td>\n",
       "      <td>4.1</td>\n",
       "      <td>観光地 3</td>\n",
       "      <td>4.6</td>\n",
       "    </tr>\n",
       "    <tr>\n",
       "      <th>3</th>\n",
       "      <td>4.4</td>\n",
       "      <td>4.4</td>\n",
       "      <td>4.8</td>\n",
       "      <td>4.0</td>\n",
       "      <td>観光地 4</td>\n",
       "      <td>4.5</td>\n",
       "    </tr>\n",
       "    <tr>\n",
       "      <th>4</th>\n",
       "      <td>4.4</td>\n",
       "      <td>4.3</td>\n",
       "      <td>4.7</td>\n",
       "      <td>4.0</td>\n",
       "      <td>観光地 5</td>\n",
       "      <td>4.5</td>\n",
       "    </tr>\n",
       "    <tr>\n",
       "      <th>5</th>\n",
       "      <td>4.3</td>\n",
       "      <td>4.3</td>\n",
       "      <td>4.7</td>\n",
       "      <td>3.9</td>\n",
       "      <td>観光地 6</td>\n",
       "      <td>4.4</td>\n",
       "    </tr>\n",
       "    <tr>\n",
       "      <th>6</th>\n",
       "      <td>4.2</td>\n",
       "      <td>4.2</td>\n",
       "      <td>4.6</td>\n",
       "      <td>3.8</td>\n",
       "      <td>観光地 7</td>\n",
       "      <td>4.3</td>\n",
       "    </tr>\n",
       "    <tr>\n",
       "      <th>7</th>\n",
       "      <td>4.2</td>\n",
       "      <td>4.2</td>\n",
       "      <td>4.6</td>\n",
       "      <td>3.8</td>\n",
       "      <td>観光地 8</td>\n",
       "      <td>4.3</td>\n",
       "    </tr>\n",
       "    <tr>\n",
       "      <th>8</th>\n",
       "      <td>4.1</td>\n",
       "      <td>4.1</td>\n",
       "      <td>4.5</td>\n",
       "      <td>3.7</td>\n",
       "      <td>観光地 9</td>\n",
       "      <td>4.2</td>\n",
       "    </tr>\n",
       "    <tr>\n",
       "      <th>9</th>\n",
       "      <td>4.0</td>\n",
       "      <td>4.1</td>\n",
       "      <td>4.4</td>\n",
       "      <td>3.6</td>\n",
       "      <td>観光地 10</td>\n",
       "      <td>4.1</td>\n",
       "    </tr>\n",
       "  </tbody>\n",
       "</table>\n",
       "</div>"
      ],
      "text/plain": [
       "   楽しさ  人混みの多さ   景色  アクセス    観光地名  評価点\n",
       "0  4.6     4.5  4.9   4.2   観光地 1  4.7\n",
       "1  4.6     4.5  4.9   4.2   観光地 2  4.7\n",
       "2  4.5     4.4  4.8   4.1   観光地 3  4.6\n",
       "3  4.4     4.4  4.8   4.0   観光地 4  4.5\n",
       "4  4.4     4.3  4.7   4.0   観光地 5  4.5\n",
       "5  4.3     4.3  4.7   3.9   観光地 6  4.4\n",
       "6  4.2     4.2  4.6   3.8   観光地 7  4.3\n",
       "7  4.2     4.2  4.6   3.8   観光地 8  4.3\n",
       "8  4.1     4.1  4.5   3.7   観光地 9  4.2\n",
       "9  4.0     4.1  4.4   3.6  観光地 10  4.1"
      ]
     },
     "execution_count": 69,
     "metadata": {},
     "output_type": "execute_result"
    }
   ],
   "source": [
    "df"
   ]
  },
  {
   "cell_type": "code",
   "execution_count": 70,
   "id": "e5930f8b",
   "metadata": {},
   "outputs": [
    {
     "data": {
      "text/plain": [
       "Index(['楽しさ', '人混みの多さ', '景色', 'アクセス', '観光地名', '評価点'], dtype='object')"
      ]
     },
     "execution_count": 70,
     "metadata": {},
     "output_type": "execute_result"
    }
   ],
   "source": [
    "#Sort the col_name\n",
    "df.columns"
   ]
  },
  {
   "cell_type": "code",
   "execution_count": 73,
   "id": "8b83590a",
   "metadata": {},
   "outputs": [],
   "source": [
    "df = df[['観光地名', '評価点','楽しさ', '人混みの多さ', '景色', 'アクセス']]"
   ]
  },
  {
   "cell_type": "code",
   "execution_count": 75,
   "id": "af2e5521",
   "metadata": {},
   "outputs": [],
   "source": [
    "df.to_csv(\"観光地情報.csv\",index = False)"
   ]
  },
  {
   "cell_type": "code",
   "execution_count": null,
   "id": "04dafb59",
   "metadata": {},
   "outputs": [],
   "source": []
  },
  {
   "cell_type": "code",
   "execution_count": null,
   "id": "eabdb135",
   "metadata": {},
   "outputs": [],
   "source": []
  },
  {
   "cell_type": "code",
   "execution_count": null,
   "id": "7f982bff",
   "metadata": {},
   "outputs": [],
   "source": []
  },
  {
   "cell_type": "code",
   "execution_count": null,
   "id": "0c5894e5",
   "metadata": {},
   "outputs": [],
   "source": []
  }
 ],
 "metadata": {
  "interpreter": {
   "hash": "9ddcec1ebe89a027dd8387debcf83fdbf916e0c695273745849a5938d2ceab9a"
  },
  "kernelspec": {
   "display_name": "Python 3 (ipykernel)",
   "language": "python",
   "name": "python3"
  },
  "language_info": {
   "codemirror_mode": {
    "name": "ipython",
    "version": 3
   },
   "file_extension": ".py",
   "mimetype": "text/x-python",
   "name": "python",
   "nbconvert_exporter": "python",
   "pygments_lexer": "ipython3",
   "version": "3.9.10"
  }
 },
 "nbformat": 4,
 "nbformat_minor": 5
}
